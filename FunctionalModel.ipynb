{
 "cells": [
  {
   "cell_type": "code",
   "execution_count": 1,
   "metadata": {},
   "outputs": [],
   "source": [
    "from datetime import datetime\n",
    "\n",
    "import numpy as np\n",
    "import pandas as pd\n",
    "\n",
    "import matplotlib.pyplot as plt\n",
    "import seaborn as sns\n",
    "\n",
    "from sklearn.model_selection import train_test_split\n",
    "from sklearn.preprocessing import StandardScaler\n",
    "from sklearn.metrics import accuracy_score, precision_score,recall_score\n",
    "\n",
    "import tensorflow as tf\n",
    "\n",
    "from tensorflow import keras\n",
    "from tensorflow.keras import layers"
   ]
  },
  {
   "cell_type": "code",
   "execution_count": 3,
   "metadata": {},
   "outputs": [
    {
     "data": {
      "text/html": [
       "<div>\n",
       "<style scoped>\n",
       "    .dataframe tbody tr th:only-of-type {\n",
       "        vertical-align: middle;\n",
       "    }\n",
       "\n",
       "    .dataframe tbody tr th {\n",
       "        vertical-align: top;\n",
       "    }\n",
       "\n",
       "    .dataframe thead th {\n",
       "        text-align: right;\n",
       "    }\n",
       "</style>\n",
       "<table border=\"1\" class=\"dataframe\">\n",
       "  <thead>\n",
       "    <tr style=\"text-align: right;\">\n",
       "      <th></th>\n",
       "      <th>age</th>\n",
       "      <th>sex</th>\n",
       "      <th>cp</th>\n",
       "      <th>trestbps</th>\n",
       "      <th>chol</th>\n",
       "      <th>fbs</th>\n",
       "      <th>restecg</th>\n",
       "      <th>thalach</th>\n",
       "      <th>exang</th>\n",
       "      <th>oldpeak</th>\n",
       "      <th>slope</th>\n",
       "      <th>ca</th>\n",
       "      <th>thal</th>\n",
       "      <th>target</th>\n",
       "    </tr>\n",
       "  </thead>\n",
       "  <tbody>\n",
       "    <tr>\n",
       "      <th>62</th>\n",
       "      <td>52</td>\n",
       "      <td>1</td>\n",
       "      <td>3</td>\n",
       "      <td>118</td>\n",
       "      <td>186</td>\n",
       "      <td>0</td>\n",
       "      <td>0</td>\n",
       "      <td>190</td>\n",
       "      <td>0</td>\n",
       "      <td>0.0</td>\n",
       "      <td>1</td>\n",
       "      <td>0</td>\n",
       "      <td>1</td>\n",
       "      <td>1</td>\n",
       "    </tr>\n",
       "    <tr>\n",
       "      <th>5</th>\n",
       "      <td>57</td>\n",
       "      <td>1</td>\n",
       "      <td>0</td>\n",
       "      <td>140</td>\n",
       "      <td>192</td>\n",
       "      <td>0</td>\n",
       "      <td>1</td>\n",
       "      <td>148</td>\n",
       "      <td>0</td>\n",
       "      <td>0.4</td>\n",
       "      <td>1</td>\n",
       "      <td>0</td>\n",
       "      <td>1</td>\n",
       "      <td>1</td>\n",
       "    </tr>\n",
       "    <tr>\n",
       "      <th>152</th>\n",
       "      <td>64</td>\n",
       "      <td>1</td>\n",
       "      <td>3</td>\n",
       "      <td>170</td>\n",
       "      <td>227</td>\n",
       "      <td>0</td>\n",
       "      <td>0</td>\n",
       "      <td>155</td>\n",
       "      <td>0</td>\n",
       "      <td>0.6</td>\n",
       "      <td>1</td>\n",
       "      <td>0</td>\n",
       "      <td>3</td>\n",
       "      <td>1</td>\n",
       "    </tr>\n",
       "    <tr>\n",
       "      <th>94</th>\n",
       "      <td>45</td>\n",
       "      <td>0</td>\n",
       "      <td>1</td>\n",
       "      <td>112</td>\n",
       "      <td>160</td>\n",
       "      <td>0</td>\n",
       "      <td>1</td>\n",
       "      <td>138</td>\n",
       "      <td>0</td>\n",
       "      <td>0.0</td>\n",
       "      <td>1</td>\n",
       "      <td>0</td>\n",
       "      <td>2</td>\n",
       "      <td>1</td>\n",
       "    </tr>\n",
       "    <tr>\n",
       "      <th>107</th>\n",
       "      <td>45</td>\n",
       "      <td>0</td>\n",
       "      <td>0</td>\n",
       "      <td>138</td>\n",
       "      <td>236</td>\n",
       "      <td>0</td>\n",
       "      <td>0</td>\n",
       "      <td>152</td>\n",
       "      <td>1</td>\n",
       "      <td>0.2</td>\n",
       "      <td>1</td>\n",
       "      <td>0</td>\n",
       "      <td>2</td>\n",
       "      <td>1</td>\n",
       "    </tr>\n",
       "  </tbody>\n",
       "</table>\n",
       "</div>"
      ],
      "text/plain": [
       "     age  sex  cp  trestbps  chol  fbs  restecg  thalach  exang  oldpeak  \\\n",
       "62    52    1   3       118   186    0        0      190      0      0.0   \n",
       "5     57    1   0       140   192    0        1      148      0      0.4   \n",
       "152   64    1   3       170   227    0        0      155      0      0.6   \n",
       "94    45    0   1       112   160    0        1      138      0      0.0   \n",
       "107   45    0   0       138   236    0        0      152      1      0.2   \n",
       "\n",
       "     slope  ca  thal  target  \n",
       "62       1   0     1       1  \n",
       "5        1   0     1       1  \n",
       "152      1   0     3       1  \n",
       "94       1   0     2       1  \n",
       "107      1   0     2       1  "
      ]
     },
     "execution_count": 3,
     "metadata": {},
     "output_type": "execute_result"
    }
   ],
   "source": [
    "df = pd.read_csv(\"heart.csv\")\n",
    "df.sample(5)"
   ]
  },
  {
   "cell_type": "code",
   "execution_count": 4,
   "metadata": {},
   "outputs": [
    {
     "data": {
      "text/plain": [
       "(303, 14)"
      ]
     },
     "execution_count": 4,
     "metadata": {},
     "output_type": "execute_result"
    }
   ],
   "source": [
    "df.shape"
   ]
  },
  {
   "cell_type": "code",
   "execution_count": 5,
   "metadata": {},
   "outputs": [
    {
     "data": {
      "text/plain": [
       "age         0\n",
       "sex         0\n",
       "cp          0\n",
       "trestbps    0\n",
       "chol        0\n",
       "fbs         0\n",
       "restecg     0\n",
       "thalach     0\n",
       "exang       0\n",
       "oldpeak     0\n",
       "slope       0\n",
       "ca          0\n",
       "thal        0\n",
       "target      0\n",
       "dtype: int64"
      ]
     },
     "execution_count": 5,
     "metadata": {},
     "output_type": "execute_result"
    }
   ],
   "source": [
    "df.isnull().sum()"
   ]
  },
  {
   "cell_type": "code",
   "execution_count": 6,
   "metadata": {},
   "outputs": [
    {
     "data": {
      "text/html": [
       "<div>\n",
       "<style scoped>\n",
       "    .dataframe tbody tr th:only-of-type {\n",
       "        vertical-align: middle;\n",
       "    }\n",
       "\n",
       "    .dataframe tbody tr th {\n",
       "        vertical-align: top;\n",
       "    }\n",
       "\n",
       "    .dataframe thead th {\n",
       "        text-align: right;\n",
       "    }\n",
       "</style>\n",
       "<table border=\"1\" class=\"dataframe\">\n",
       "  <thead>\n",
       "    <tr style=\"text-align: right;\">\n",
       "      <th></th>\n",
       "      <th>count</th>\n",
       "      <th>mean</th>\n",
       "      <th>std</th>\n",
       "      <th>min</th>\n",
       "      <th>25%</th>\n",
       "      <th>50%</th>\n",
       "      <th>75%</th>\n",
       "      <th>max</th>\n",
       "    </tr>\n",
       "  </thead>\n",
       "  <tbody>\n",
       "    <tr>\n",
       "      <th>age</th>\n",
       "      <td>303.0</td>\n",
       "      <td>54.366337</td>\n",
       "      <td>9.082101</td>\n",
       "      <td>29.0</td>\n",
       "      <td>47.5</td>\n",
       "      <td>55.0</td>\n",
       "      <td>61.0</td>\n",
       "      <td>77.0</td>\n",
       "    </tr>\n",
       "    <tr>\n",
       "      <th>sex</th>\n",
       "      <td>303.0</td>\n",
       "      <td>0.683168</td>\n",
       "      <td>0.466011</td>\n",
       "      <td>0.0</td>\n",
       "      <td>0.0</td>\n",
       "      <td>1.0</td>\n",
       "      <td>1.0</td>\n",
       "      <td>1.0</td>\n",
       "    </tr>\n",
       "    <tr>\n",
       "      <th>cp</th>\n",
       "      <td>303.0</td>\n",
       "      <td>0.966997</td>\n",
       "      <td>1.032052</td>\n",
       "      <td>0.0</td>\n",
       "      <td>0.0</td>\n",
       "      <td>1.0</td>\n",
       "      <td>2.0</td>\n",
       "      <td>3.0</td>\n",
       "    </tr>\n",
       "    <tr>\n",
       "      <th>trestbps</th>\n",
       "      <td>303.0</td>\n",
       "      <td>131.623762</td>\n",
       "      <td>17.538143</td>\n",
       "      <td>94.0</td>\n",
       "      <td>120.0</td>\n",
       "      <td>130.0</td>\n",
       "      <td>140.0</td>\n",
       "      <td>200.0</td>\n",
       "    </tr>\n",
       "    <tr>\n",
       "      <th>chol</th>\n",
       "      <td>303.0</td>\n",
       "      <td>246.264026</td>\n",
       "      <td>51.830751</td>\n",
       "      <td>126.0</td>\n",
       "      <td>211.0</td>\n",
       "      <td>240.0</td>\n",
       "      <td>274.5</td>\n",
       "      <td>564.0</td>\n",
       "    </tr>\n",
       "    <tr>\n",
       "      <th>fbs</th>\n",
       "      <td>303.0</td>\n",
       "      <td>0.148515</td>\n",
       "      <td>0.356198</td>\n",
       "      <td>0.0</td>\n",
       "      <td>0.0</td>\n",
       "      <td>0.0</td>\n",
       "      <td>0.0</td>\n",
       "      <td>1.0</td>\n",
       "    </tr>\n",
       "    <tr>\n",
       "      <th>restecg</th>\n",
       "      <td>303.0</td>\n",
       "      <td>0.528053</td>\n",
       "      <td>0.525860</td>\n",
       "      <td>0.0</td>\n",
       "      <td>0.0</td>\n",
       "      <td>1.0</td>\n",
       "      <td>1.0</td>\n",
       "      <td>2.0</td>\n",
       "    </tr>\n",
       "    <tr>\n",
       "      <th>thalach</th>\n",
       "      <td>303.0</td>\n",
       "      <td>149.646865</td>\n",
       "      <td>22.905161</td>\n",
       "      <td>71.0</td>\n",
       "      <td>133.5</td>\n",
       "      <td>153.0</td>\n",
       "      <td>166.0</td>\n",
       "      <td>202.0</td>\n",
       "    </tr>\n",
       "    <tr>\n",
       "      <th>exang</th>\n",
       "      <td>303.0</td>\n",
       "      <td>0.326733</td>\n",
       "      <td>0.469794</td>\n",
       "      <td>0.0</td>\n",
       "      <td>0.0</td>\n",
       "      <td>0.0</td>\n",
       "      <td>1.0</td>\n",
       "      <td>1.0</td>\n",
       "    </tr>\n",
       "    <tr>\n",
       "      <th>oldpeak</th>\n",
       "      <td>303.0</td>\n",
       "      <td>1.039604</td>\n",
       "      <td>1.161075</td>\n",
       "      <td>0.0</td>\n",
       "      <td>0.0</td>\n",
       "      <td>0.8</td>\n",
       "      <td>1.6</td>\n",
       "      <td>6.2</td>\n",
       "    </tr>\n",
       "    <tr>\n",
       "      <th>slope</th>\n",
       "      <td>303.0</td>\n",
       "      <td>1.399340</td>\n",
       "      <td>0.616226</td>\n",
       "      <td>0.0</td>\n",
       "      <td>1.0</td>\n",
       "      <td>1.0</td>\n",
       "      <td>2.0</td>\n",
       "      <td>2.0</td>\n",
       "    </tr>\n",
       "    <tr>\n",
       "      <th>ca</th>\n",
       "      <td>303.0</td>\n",
       "      <td>0.729373</td>\n",
       "      <td>1.022606</td>\n",
       "      <td>0.0</td>\n",
       "      <td>0.0</td>\n",
       "      <td>0.0</td>\n",
       "      <td>1.0</td>\n",
       "      <td>4.0</td>\n",
       "    </tr>\n",
       "    <tr>\n",
       "      <th>thal</th>\n",
       "      <td>303.0</td>\n",
       "      <td>2.313531</td>\n",
       "      <td>0.612277</td>\n",
       "      <td>0.0</td>\n",
       "      <td>2.0</td>\n",
       "      <td>2.0</td>\n",
       "      <td>3.0</td>\n",
       "      <td>3.0</td>\n",
       "    </tr>\n",
       "    <tr>\n",
       "      <th>target</th>\n",
       "      <td>303.0</td>\n",
       "      <td>0.544554</td>\n",
       "      <td>0.498835</td>\n",
       "      <td>0.0</td>\n",
       "      <td>0.0</td>\n",
       "      <td>1.0</td>\n",
       "      <td>1.0</td>\n",
       "      <td>1.0</td>\n",
       "    </tr>\n",
       "  </tbody>\n",
       "</table>\n",
       "</div>"
      ],
      "text/plain": [
       "          count        mean        std    min    25%    50%    75%    max\n",
       "age       303.0   54.366337   9.082101   29.0   47.5   55.0   61.0   77.0\n",
       "sex       303.0    0.683168   0.466011    0.0    0.0    1.0    1.0    1.0\n",
       "cp        303.0    0.966997   1.032052    0.0    0.0    1.0    2.0    3.0\n",
       "trestbps  303.0  131.623762  17.538143   94.0  120.0  130.0  140.0  200.0\n",
       "chol      303.0  246.264026  51.830751  126.0  211.0  240.0  274.5  564.0\n",
       "fbs       303.0    0.148515   0.356198    0.0    0.0    0.0    0.0    1.0\n",
       "restecg   303.0    0.528053   0.525860    0.0    0.0    1.0    1.0    2.0\n",
       "thalach   303.0  149.646865  22.905161   71.0  133.5  153.0  166.0  202.0\n",
       "exang     303.0    0.326733   0.469794    0.0    0.0    0.0    1.0    1.0\n",
       "oldpeak   303.0    1.039604   1.161075    0.0    0.0    0.8    1.6    6.2\n",
       "slope     303.0    1.399340   0.616226    0.0    1.0    1.0    2.0    2.0\n",
       "ca        303.0    0.729373   1.022606    0.0    0.0    0.0    1.0    4.0\n",
       "thal      303.0    2.313531   0.612277    0.0    2.0    2.0    3.0    3.0\n",
       "target    303.0    0.544554   0.498835    0.0    0.0    1.0    1.0    1.0"
      ]
     },
     "execution_count": 6,
     "metadata": {},
     "output_type": "execute_result"
    }
   ],
   "source": [
    "df.describe().T"
   ]
  },
  {
   "cell_type": "code",
   "execution_count": 7,
   "metadata": {},
   "outputs": [
    {
     "data": {
      "text/plain": [
       "1    207\n",
       "0     96\n",
       "Name: sex, dtype: int64"
      ]
     },
     "execution_count": 7,
     "metadata": {},
     "output_type": "execute_result"
    }
   ],
   "source": [
    "df['sex'].value_counts()"
   ]
  },
  {
   "cell_type": "code",
   "execution_count": 8,
   "metadata": {},
   "outputs": [
    {
     "data": {
      "text/plain": [
       "0    143\n",
       "2     87\n",
       "1     50\n",
       "3     23\n",
       "Name: cp, dtype: int64"
      ]
     },
     "execution_count": 8,
     "metadata": {},
     "output_type": "execute_result"
    }
   ],
   "source": [
    "df['cp'].value_counts()"
   ]
  },
  {
   "cell_type": "code",
   "execution_count": 9,
   "metadata": {},
   "outputs": [
    {
     "data": {
      "image/png": "[encoded data removed]",
      "text/plain": [
       "<Figure size 432x288 with 1 Axes>"
      ]
     },
     "metadata": {
      "needs_background": "light"
     },
     "output_type": "display_data"
    }
   ],
   "source": [
    "sns.countplot('sex', hue = 'target',data = df)\n",
    "\n",
    "plt.title('Heart Disease Frequency for Gender')\n",
    "plt.legend(['No Disease','Yes Disease'])\n",
    "\n",
    "plt.xlabel('Gender (0 = Female, 1 = Male)')\n",
    "plt.ylabel('Frequency')\n",
    "\n",
    "plt.show()"
   ]
  },
  {
   "cell_type": "code",
   "execution_count": 10,
   "metadata": {},
   "outputs": [
    {
     "data": {
      "image/png": "[encoded data removed]",
      "text/plain": [
       "<Figure size 1440x576 with 1 Axes>"
      ]
     },
     "metadata": {
      "needs_background": "light"
     },
     "output_type": "display_data"
    }
   ],
   "source": [
    "plt.figure(figsize = (20,8))\n",
    "sns.countplot('age', hue = 'target', data = df)\n",
    "\n",
    "plt.title('Heart Disease Frequency for Age')\n",
    "plt.legend(['No Disease','Yes Disease'])\n",
    "\n",
    "plt.xlabel('Age')\n",
    "plt.ylabel('Frequency')\n",
    "\n",
    "plt.show()"
   ]
  },
  {
   "cell_type": "code",
   "execution_count": 11,
   "metadata": {},
   "outputs": [
    {
     "data": {
      "image/png": "[encoded data removed]",
      "text/plain": [
       "<Figure size 720x576 with 1 Axes>"
      ]
     },
     "metadata": {
      "needs_background": "light"
     },
     "output_type": "display_data"
    }
   ],
   "source": [
    "plt.figure(figsize = (10,8))\n",
    "\n",
    "plt.scatter(df['age'], df['chol'], s = 200)\n",
    "\n",
    "plt.xlabel('Age', fontsize = 20)\n",
    "plt.ylabel('Cholestrol', fontsize = 20)\n",
    "\n",
    "plt.show()"
   ]
  },
  {
   "cell_type": "code",
   "execution_count": 12,
   "metadata": {},
   "outputs": [],
   "source": [
    "features = df.drop('target',axis = 1)\n",
    "target = df['target']"
   ]
  },
  {
   "cell_type": "code",
   "execution_count": 13,
   "metadata": {},
   "outputs": [
    {
     "data": {
      "text/html": [
       "<div>\n",
       "<style scoped>\n",
       "    .dataframe tbody tr th:only-of-type {\n",
       "        vertical-align: middle;\n",
       "    }\n",
       "\n",
       "    .dataframe tbody tr th {\n",
       "        vertical-align: top;\n",
       "    }\n",
       "\n",
       "    .dataframe thead th {\n",
       "        text-align: right;\n",
       "    }\n",
       "</style>\n",
       "<table border=\"1\" class=\"dataframe\">\n",
       "  <thead>\n",
       "    <tr style=\"text-align: right;\">\n",
       "      <th></th>\n",
       "      <th>age</th>\n",
       "      <th>sex</th>\n",
       "      <th>cp</th>\n",
       "      <th>trestbps</th>\n",
       "      <th>chol</th>\n",
       "      <th>fbs</th>\n",
       "      <th>restecg</th>\n",
       "      <th>thalach</th>\n",
       "      <th>exang</th>\n",
       "      <th>oldpeak</th>\n",
       "      <th>slope</th>\n",
       "      <th>ca</th>\n",
       "      <th>thal</th>\n",
       "    </tr>\n",
       "  </thead>\n",
       "  <tbody>\n",
       "    <tr>\n",
       "      <th>0</th>\n",
       "      <td>63</td>\n",
       "      <td>1</td>\n",
       "      <td>3</td>\n",
       "      <td>145</td>\n",
       "      <td>233</td>\n",
       "      <td>1</td>\n",
       "      <td>0</td>\n",
       "      <td>150</td>\n",
       "      <td>0</td>\n",
       "      <td>2.3</td>\n",
       "      <td>0</td>\n",
       "      <td>0</td>\n",
       "      <td>1</td>\n",
       "    </tr>\n",
       "    <tr>\n",
       "      <th>1</th>\n",
       "      <td>37</td>\n",
       "      <td>1</td>\n",
       "      <td>2</td>\n",
       "      <td>130</td>\n",
       "      <td>250</td>\n",
       "      <td>0</td>\n",
       "      <td>1</td>\n",
       "      <td>187</td>\n",
       "      <td>0</td>\n",
       "      <td>3.5</td>\n",
       "      <td>0</td>\n",
       "      <td>0</td>\n",
       "      <td>2</td>\n",
       "    </tr>\n",
       "    <tr>\n",
       "      <th>2</th>\n",
       "      <td>41</td>\n",
       "      <td>0</td>\n",
       "      <td>1</td>\n",
       "      <td>130</td>\n",
       "      <td>204</td>\n",
       "      <td>0</td>\n",
       "      <td>0</td>\n",
       "      <td>172</td>\n",
       "      <td>0</td>\n",
       "      <td>1.4</td>\n",
       "      <td>2</td>\n",
       "      <td>0</td>\n",
       "      <td>2</td>\n",
       "    </tr>\n",
       "    <tr>\n",
       "      <th>3</th>\n",
       "      <td>56</td>\n",
       "      <td>1</td>\n",
       "      <td>1</td>\n",
       "      <td>120</td>\n",
       "      <td>236</td>\n",
       "      <td>0</td>\n",
       "      <td>1</td>\n",
       "      <td>178</td>\n",
       "      <td>0</td>\n",
       "      <td>0.8</td>\n",
       "      <td>2</td>\n",
       "      <td>0</td>\n",
       "      <td>2</td>\n",
       "    </tr>\n",
       "    <tr>\n",
       "      <th>4</th>\n",
       "      <td>57</td>\n",
       "      <td>0</td>\n",
       "      <td>0</td>\n",
       "      <td>120</td>\n",
       "      <td>354</td>\n",
       "      <td>0</td>\n",
       "      <td>1</td>\n",
       "      <td>163</td>\n",
       "      <td>1</td>\n",
       "      <td>0.6</td>\n",
       "      <td>2</td>\n",
       "      <td>0</td>\n",
       "      <td>2</td>\n",
       "    </tr>\n",
       "  </tbody>\n",
       "</table>\n",
       "</div>"
      ],
      "text/plain": [
       "   age  sex  cp  trestbps  chol  fbs  restecg  thalach  exang  oldpeak  slope  \\\n",
       "0   63    1   3       145   233    1        0      150      0      2.3      0   \n",
       "1   37    1   2       130   250    0        1      187      0      3.5      0   \n",
       "2   41    0   1       130   204    0        0      172      0      1.4      2   \n",
       "3   56    1   1       120   236    0        1      178      0      0.8      2   \n",
       "4   57    0   0       120   354    0        1      163      1      0.6      2   \n",
       "\n",
       "   ca  thal  \n",
       "0   0     1  \n",
       "1   0     2  \n",
       "2   0     2  \n",
       "3   0     2  \n",
       "4   0     2  "
      ]
     },
     "execution_count": 13,
     "metadata": {},
     "output_type": "execute_result"
    }
   ],
   "source": [
    "features.head(5)"
   ]
  },
  {
   "cell_type": "code",
   "execution_count": 14,
   "metadata": {},
   "outputs": [
    {
     "data": {
      "text/plain": [
       "0    1\n",
       "1    1\n",
       "2    1\n",
       "3    1\n",
       "4    1\n",
       "Name: target, dtype: int64"
      ]
     },
     "execution_count": 14,
     "metadata": {},
     "output_type": "execute_result"
    }
   ],
   "source": [
    "target.head()"
   ]
  },
  {
   "cell_type": "code",
   "execution_count": 15,
   "metadata": {},
   "outputs": [
    {
     "data": {
      "text/plain": [
       "Index(['age', 'sex', 'cp', 'trestbps', 'chol', 'fbs', 'restecg', 'thalach',\n",
       "       'exang', 'oldpeak', 'slope', 'ca', 'thal'],\n",
       "      dtype='object')"
      ]
     },
     "execution_count": 15,
     "metadata": {},
     "output_type": "execute_result"
    }
   ],
   "source": [
    "features.columns"
   ]
  },
  {
   "cell_type": "code",
   "execution_count": 18,
   "metadata": {},
   "outputs": [],
   "source": [
    "categorical_features = features[[ 'sex', 'cp', 'fbs', 'restecg',\n",
    "       'exang', 'slope', 'ca', 'thal']].copy()"
   ]
  },
  {
   "cell_type": "code",
   "execution_count": 19,
   "metadata": {},
   "outputs": [
    {
     "data": {
      "text/html": [
       "<div>\n",
       "<style scoped>\n",
       "    .dataframe tbody tr th:only-of-type {\n",
       "        vertical-align: middle;\n",
       "    }\n",
       "\n",
       "    .dataframe tbody tr th {\n",
       "        vertical-align: top;\n",
       "    }\n",
       "\n",
       "    .dataframe thead th {\n",
       "        text-align: right;\n",
       "    }\n",
       "</style>\n",
       "<table border=\"1\" class=\"dataframe\">\n",
       "  <thead>\n",
       "    <tr style=\"text-align: right;\">\n",
       "      <th></th>\n",
       "      <th>sex</th>\n",
       "      <th>cp</th>\n",
       "      <th>fbs</th>\n",
       "      <th>restecg</th>\n",
       "      <th>exang</th>\n",
       "      <th>slope</th>\n",
       "      <th>ca</th>\n",
       "      <th>thal</th>\n",
       "    </tr>\n",
       "  </thead>\n",
       "  <tbody>\n",
       "    <tr>\n",
       "      <th>0</th>\n",
       "      <td>1</td>\n",
       "      <td>3</td>\n",
       "      <td>1</td>\n",
       "      <td>0</td>\n",
       "      <td>0</td>\n",
       "      <td>0</td>\n",
       "      <td>0</td>\n",
       "      <td>1</td>\n",
       "    </tr>\n",
       "    <tr>\n",
       "      <th>1</th>\n",
       "      <td>1</td>\n",
       "      <td>2</td>\n",
       "      <td>0</td>\n",
       "      <td>1</td>\n",
       "      <td>0</td>\n",
       "      <td>0</td>\n",
       "      <td>0</td>\n",
       "      <td>2</td>\n",
       "    </tr>\n",
       "    <tr>\n",
       "      <th>2</th>\n",
       "      <td>0</td>\n",
       "      <td>1</td>\n",
       "      <td>0</td>\n",
       "      <td>0</td>\n",
       "      <td>0</td>\n",
       "      <td>2</td>\n",
       "      <td>0</td>\n",
       "      <td>2</td>\n",
       "    </tr>\n",
       "    <tr>\n",
       "      <th>3</th>\n",
       "      <td>1</td>\n",
       "      <td>1</td>\n",
       "      <td>0</td>\n",
       "      <td>1</td>\n",
       "      <td>0</td>\n",
       "      <td>2</td>\n",
       "      <td>0</td>\n",
       "      <td>2</td>\n",
       "    </tr>\n",
       "    <tr>\n",
       "      <th>4</th>\n",
       "      <td>0</td>\n",
       "      <td>0</td>\n",
       "      <td>0</td>\n",
       "      <td>1</td>\n",
       "      <td>1</td>\n",
       "      <td>2</td>\n",
       "      <td>0</td>\n",
       "      <td>2</td>\n",
       "    </tr>\n",
       "  </tbody>\n",
       "</table>\n",
       "</div>"
      ],
      "text/plain": [
       "   sex  cp  fbs  restecg  exang  slope  ca  thal\n",
       "0    1   3    1        0      0      0   0     1\n",
       "1    1   2    0        1      0      0   0     2\n",
       "2    0   1    0        0      0      2   0     2\n",
       "3    1   1    0        1      0      2   0     2\n",
       "4    0   0    0        1      1      2   0     2"
      ]
     },
     "execution_count": 19,
     "metadata": {},
     "output_type": "execute_result"
    }
   ],
   "source": [
    "categorical_features.head()"
   ]
  },
  {
   "cell_type": "code",
   "execution_count": 20,
   "metadata": {},
   "outputs": [
    {
     "data": {
      "text/html": [
       "<div>\n",
       "<style scoped>\n",
       "    .dataframe tbody tr th:only-of-type {\n",
       "        vertical-align: middle;\n",
       "    }\n",
       "\n",
       "    .dataframe tbody tr th {\n",
       "        vertical-align: top;\n",
       "    }\n",
       "\n",
       "    .dataframe thead th {\n",
       "        text-align: right;\n",
       "    }\n",
       "</style>\n",
       "<table border=\"1\" class=\"dataframe\">\n",
       "  <thead>\n",
       "    <tr style=\"text-align: right;\">\n",
       "      <th></th>\n",
       "      <th>age</th>\n",
       "      <th>trestbps</th>\n",
       "      <th>chol</th>\n",
       "      <th>thalach</th>\n",
       "      <th>oldpeak</th>\n",
       "    </tr>\n",
       "  </thead>\n",
       "  <tbody>\n",
       "    <tr>\n",
       "      <th>0</th>\n",
       "      <td>63</td>\n",
       "      <td>145</td>\n",
       "      <td>233</td>\n",
       "      <td>150</td>\n",
       "      <td>2.3</td>\n",
       "    </tr>\n",
       "    <tr>\n",
       "      <th>1</th>\n",
       "      <td>37</td>\n",
       "      <td>130</td>\n",
       "      <td>250</td>\n",
       "      <td>187</td>\n",
       "      <td>3.5</td>\n",
       "    </tr>\n",
       "    <tr>\n",
       "      <th>2</th>\n",
       "      <td>41</td>\n",
       "      <td>130</td>\n",
       "      <td>204</td>\n",
       "      <td>172</td>\n",
       "      <td>1.4</td>\n",
       "    </tr>\n",
       "    <tr>\n",
       "      <th>3</th>\n",
       "      <td>56</td>\n",
       "      <td>120</td>\n",
       "      <td>236</td>\n",
       "      <td>178</td>\n",
       "      <td>0.8</td>\n",
       "    </tr>\n",
       "    <tr>\n",
       "      <th>4</th>\n",
       "      <td>57</td>\n",
       "      <td>120</td>\n",
       "      <td>354</td>\n",
       "      <td>163</td>\n",
       "      <td>0.6</td>\n",
       "    </tr>\n",
       "  </tbody>\n",
       "</table>\n",
       "</div>"
      ],
      "text/plain": [
       "   age  trestbps  chol  thalach  oldpeak\n",
       "0   63       145   233      150      2.3\n",
       "1   37       130   250      187      3.5\n",
       "2   41       130   204      172      1.4\n",
       "3   56       120   236      178      0.8\n",
       "4   57       120   354      163      0.6"
      ]
     },
     "execution_count": 20,
     "metadata": {},
     "output_type": "execute_result"
    }
   ],
   "source": [
    "numeric_features = features[['age','trestbps','chol','thalach','oldpeak']].copy()\n",
    "numeric_features.head()"
   ]
  },
  {
   "cell_type": "code",
   "execution_count": 21,
   "metadata": {},
   "outputs": [],
   "source": [
    "sc = StandardScaler()\n",
    "\n",
    "numeric_features = pd.DataFrame(sc.fit_transform(numeric_features), columns = numeric_features.columns, \n",
    "                                index = numeric_features.index)"
   ]
  },
  {
   "cell_type": "code",
   "execution_count": 22,
   "metadata": {},
   "outputs": [
    {
     "data": {
      "text/html": [
       "<div>\n",
       "<style scoped>\n",
       "    .dataframe tbody tr th:only-of-type {\n",
       "        vertical-align: middle;\n",
       "    }\n",
       "\n",
       "    .dataframe tbody tr th {\n",
       "        vertical-align: top;\n",
       "    }\n",
       "\n",
       "    .dataframe thead th {\n",
       "        text-align: right;\n",
       "    }\n",
       "</style>\n",
       "<table border=\"1\" class=\"dataframe\">\n",
       "  <thead>\n",
       "    <tr style=\"text-align: right;\">\n",
       "      <th></th>\n",
       "      <th>count</th>\n",
       "      <th>mean</th>\n",
       "      <th>std</th>\n",
       "      <th>min</th>\n",
       "      <th>25%</th>\n",
       "      <th>50%</th>\n",
       "      <th>75%</th>\n",
       "      <th>max</th>\n",
       "    </tr>\n",
       "  </thead>\n",
       "  <tbody>\n",
       "    <tr>\n",
       "      <th>age</th>\n",
       "      <td>303.0</td>\n",
       "      <td>5.825923e-17</td>\n",
       "      <td>1.001654</td>\n",
       "      <td>-2.797624</td>\n",
       "      <td>-0.757280</td>\n",
       "      <td>0.069886</td>\n",
       "      <td>0.731619</td>\n",
       "      <td>2.496240</td>\n",
       "    </tr>\n",
       "    <tr>\n",
       "      <th>trestbps</th>\n",
       "      <td>303.0</td>\n",
       "      <td>-7.146832e-16</td>\n",
       "      <td>1.001654</td>\n",
       "      <td>-2.148802</td>\n",
       "      <td>-0.663867</td>\n",
       "      <td>-0.092738</td>\n",
       "      <td>0.478391</td>\n",
       "      <td>3.905165</td>\n",
       "    </tr>\n",
       "    <tr>\n",
       "      <th>chol</th>\n",
       "      <td>303.0</td>\n",
       "      <td>-9.828955e-17</td>\n",
       "      <td>1.001654</td>\n",
       "      <td>-2.324160</td>\n",
       "      <td>-0.681494</td>\n",
       "      <td>-0.121055</td>\n",
       "      <td>0.545674</td>\n",
       "      <td>6.140401</td>\n",
       "    </tr>\n",
       "    <tr>\n",
       "      <th>thalach</th>\n",
       "      <td>303.0</td>\n",
       "      <td>-5.203025e-16</td>\n",
       "      <td>1.001654</td>\n",
       "      <td>-3.439267</td>\n",
       "      <td>-0.706111</td>\n",
       "      <td>0.146634</td>\n",
       "      <td>0.715131</td>\n",
       "      <td>2.289429</td>\n",
       "    </tr>\n",
       "    <tr>\n",
       "      <th>oldpeak</th>\n",
       "      <td>303.0</td>\n",
       "      <td>-3.140136e-16</td>\n",
       "      <td>1.001654</td>\n",
       "      <td>-0.896862</td>\n",
       "      <td>-0.896862</td>\n",
       "      <td>-0.206705</td>\n",
       "      <td>0.483451</td>\n",
       "      <td>4.451851</td>\n",
       "    </tr>\n",
       "  </tbody>\n",
       "</table>\n",
       "</div>"
      ],
      "text/plain": [
       "          count          mean       std       min       25%       50%  \\\n",
       "age       303.0  5.825923e-17  1.001654 -2.797624 -0.757280  0.069886   \n",
       "trestbps  303.0 -7.146832e-16  1.001654 -2.148802 -0.663867 -0.092738   \n",
       "chol      303.0 -9.828955e-17  1.001654 -2.324160 -0.681494 -0.121055   \n",
       "thalach   303.0 -5.203025e-16  1.001654 -3.439267 -0.706111  0.146634   \n",
       "oldpeak   303.0 -3.140136e-16  1.001654 -0.896862 -0.896862 -0.206705   \n",
       "\n",
       "               75%       max  \n",
       "age       0.731619  2.496240  \n",
       "trestbps  0.478391  3.905165  \n",
       "chol      0.545674  6.140401  \n",
       "thalach   0.715131  2.289429  \n",
       "oldpeak   0.483451  4.451851  "
      ]
     },
     "execution_count": 22,
     "metadata": {},
     "output_type": "execute_result"
    }
   ],
   "source": [
    "numeric_features.describe().T"
   ]
  },
  {
   "cell_type": "code",
   "execution_count": 23,
   "metadata": {},
   "outputs": [
    {
     "data": {
      "text/html": [
       "<div>\n",
       "<style scoped>\n",
       "    .dataframe tbody tr th:only-of-type {\n",
       "        vertical-align: middle;\n",
       "    }\n",
       "\n",
       "    .dataframe tbody tr th {\n",
       "        vertical-align: top;\n",
       "    }\n",
       "\n",
       "    .dataframe thead th {\n",
       "        text-align: right;\n",
       "    }\n",
       "</style>\n",
       "<table border=\"1\" class=\"dataframe\">\n",
       "  <thead>\n",
       "    <tr style=\"text-align: right;\">\n",
       "      <th></th>\n",
       "      <th>age</th>\n",
       "      <th>trestbps</th>\n",
       "      <th>chol</th>\n",
       "      <th>thalach</th>\n",
       "      <th>oldpeak</th>\n",
       "      <th>sex</th>\n",
       "      <th>cp</th>\n",
       "      <th>fbs</th>\n",
       "      <th>restecg</th>\n",
       "      <th>exang</th>\n",
       "      <th>slope</th>\n",
       "      <th>ca</th>\n",
       "      <th>thal</th>\n",
       "    </tr>\n",
       "  </thead>\n",
       "  <tbody>\n",
       "    <tr>\n",
       "      <th>0</th>\n",
       "      <td>0.952197</td>\n",
       "      <td>0.763956</td>\n",
       "      <td>-0.256334</td>\n",
       "      <td>0.015443</td>\n",
       "      <td>1.087338</td>\n",
       "      <td>1</td>\n",
       "      <td>3</td>\n",
       "      <td>1</td>\n",
       "      <td>0</td>\n",
       "      <td>0</td>\n",
       "      <td>0</td>\n",
       "      <td>0</td>\n",
       "      <td>1</td>\n",
       "    </tr>\n",
       "    <tr>\n",
       "      <th>1</th>\n",
       "      <td>-1.915313</td>\n",
       "      <td>-0.092738</td>\n",
       "      <td>0.072199</td>\n",
       "      <td>1.633471</td>\n",
       "      <td>2.122573</td>\n",
       "      <td>1</td>\n",
       "      <td>2</td>\n",
       "      <td>0</td>\n",
       "      <td>1</td>\n",
       "      <td>0</td>\n",
       "      <td>0</td>\n",
       "      <td>0</td>\n",
       "      <td>2</td>\n",
       "    </tr>\n",
       "    <tr>\n",
       "      <th>2</th>\n",
       "      <td>-1.474158</td>\n",
       "      <td>-0.092738</td>\n",
       "      <td>-0.816773</td>\n",
       "      <td>0.977514</td>\n",
       "      <td>0.310912</td>\n",
       "      <td>0</td>\n",
       "      <td>1</td>\n",
       "      <td>0</td>\n",
       "      <td>0</td>\n",
       "      <td>0</td>\n",
       "      <td>2</td>\n",
       "      <td>0</td>\n",
       "      <td>2</td>\n",
       "    </tr>\n",
       "    <tr>\n",
       "      <th>3</th>\n",
       "      <td>0.180175</td>\n",
       "      <td>-0.663867</td>\n",
       "      <td>-0.198357</td>\n",
       "      <td>1.239897</td>\n",
       "      <td>-0.206705</td>\n",
       "      <td>1</td>\n",
       "      <td>1</td>\n",
       "      <td>0</td>\n",
       "      <td>1</td>\n",
       "      <td>0</td>\n",
       "      <td>2</td>\n",
       "      <td>0</td>\n",
       "      <td>2</td>\n",
       "    </tr>\n",
       "    <tr>\n",
       "      <th>4</th>\n",
       "      <td>0.290464</td>\n",
       "      <td>-0.663867</td>\n",
       "      <td>2.082050</td>\n",
       "      <td>0.583939</td>\n",
       "      <td>-0.379244</td>\n",
       "      <td>0</td>\n",
       "      <td>0</td>\n",
       "      <td>0</td>\n",
       "      <td>1</td>\n",
       "      <td>1</td>\n",
       "      <td>2</td>\n",
       "      <td>0</td>\n",
       "      <td>2</td>\n",
       "    </tr>\n",
       "  </tbody>\n",
       "</table>\n",
       "</div>"
      ],
      "text/plain": [
       "        age  trestbps      chol   thalach   oldpeak  sex  cp  fbs  restecg  \\\n",
       "0  0.952197  0.763956 -0.256334  0.015443  1.087338    1   3    1        0   \n",
       "1 -1.915313 -0.092738  0.072199  1.633471  2.122573    1   2    0        1   \n",
       "2 -1.474158 -0.092738 -0.816773  0.977514  0.310912    0   1    0        0   \n",
       "3  0.180175 -0.663867 -0.198357  1.239897 -0.206705    1   1    0        1   \n",
       "4  0.290464 -0.663867  2.082050  0.583939 -0.379244    0   0    0        1   \n",
       "\n",
       "   exang  slope  ca  thal  \n",
       "0      0      0   0     1  \n",
       "1      0      0   0     2  \n",
       "2      0      2   0     2  \n",
       "3      0      2   0     2  \n",
       "4      1      2   0     2  "
      ]
     },
     "execution_count": 23,
     "metadata": {},
     "output_type": "execute_result"
    }
   ],
   "source": [
    "processed_features = pd.concat([numeric_features, categorical_features], axis = 1, sort = False)\n",
    "processed_features.head()"
   ]
  },
  {
   "cell_type": "code",
   "execution_count": 24,
   "metadata": {},
   "outputs": [],
   "source": [
    "x_train,x_test,y_train,y_test = train_test_split(processed_features, target, test_size = 0.2, random_state = 1)"
   ]
  },
  {
   "cell_type": "code",
   "execution_count": 25,
   "metadata": {},
   "outputs": [],
   "source": [
    "x_train,x_val,y_train,y_val = train_test_split(x_train,y_train,test_size = 0.15, random_state = 10)"
   ]
  },
  {
   "cell_type": "code",
   "execution_count": 26,
   "metadata": {},
   "outputs": [
    {
     "data": {
      "text/plain": [
       "((205, 13), (61, 13), (37, 13))"
      ]
     },
     "execution_count": 26,
     "metadata": {},
     "output_type": "execute_result"
    }
   ],
   "source": [
    "x_train.shape, x_test.shape, x_val.shape"
   ]
  },
  {
   "cell_type": "code",
   "execution_count": 27,
   "metadata": {},
   "outputs": [
    {
     "data": {
      "text/plain": [
       "((205,), (61,), (37,))"
      ]
     },
     "execution_count": 27,
     "metadata": {},
     "output_type": "execute_result"
    }
   ],
   "source": [
    "y_train.shape, y_test.shape, y_val.shape"
   ]
  },
  {
   "cell_type": "code",
   "execution_count": 63,
   "metadata": {},
   "outputs": [],
   "source": [
    "def build_model():\n",
    "    \n",
    "    inputs = tf.keras.Input(shape = (x_train.shape[1],))\n",
    "    \n",
    "    dense_layer1 = layers.Dense(12, activation = 'relu')\n",
    "    x = dense_layer1(inputs)\n",
    "    \n",
    "    dropout_layer = layers.Dropout(0.3)\n",
    "    x = dropout_layer(x)\n",
    "    \n",
    "    dense_layer2 = layers.Dense(8, activation = 'relu')\n",
    "    x = dense_layer2(x)\n",
    "    \n",
    "    predictions_layer = layers.Dense(1, activation = 'sigmoid')\n",
    "    predictions = predictions_layer(x)\n",
    "    \n",
    "    model = tf.keras.Model(inputs = inputs, outputs = predictions)\n",
    "    \n",
    "    model.summary()\n",
    "    \n",
    "    model.compile(optimizer = tf.keras.optimizers.Adam(0.001),\n",
    "                 loss = tf.keras.losses.BinaryCrossentropy(),\n",
    "                 metrics = ['accuracy',\n",
    "                 tf.keras.metrics.Precision(0.5),\n",
    "                 tf.keras.metrics.Recall(0.5)])\n",
    "    return model\n",
    "    "
   ]
  },
  {
   "cell_type": "code",
   "execution_count": 64,
   "metadata": {},
   "outputs": [
    {
     "name": "stdout",
     "output_type": "stream",
     "text": [
      "Model: \"functional_21\"\n",
      "_________________________________________________________________\n",
      "Layer (type)                 Output Shape              Param #   \n",
      "=================================================================\n",
      "input_12 (InputLayer)        [(None, 13)]              0         \n",
      "_________________________________________________________________\n",
      "dense_31 (Dense)             (None, 12)                168       \n",
      "_________________________________________________________________\n",
      "dropout_10 (Dropout)         (None, 12)                0         \n",
      "_________________________________________________________________\n",
      "dense_32 (Dense)             (None, 8)                 104       \n",
      "_________________________________________________________________\n",
      "dense_33 (Dense)             (None, 1)                 9         \n",
      "=================================================================\n",
      "Total params: 281\n",
      "Trainable params: 281\n",
      "Non-trainable params: 0\n",
      "_________________________________________________________________\n"
     ]
    }
   ],
   "source": [
    "model = build_model()"
   ]
  },
  {
   "cell_type": "code",
   "execution_count": 65,
   "metadata": {},
   "outputs": [],
   "source": [
    "# keras.utils.plot_model(model, show_shapes = True)"
   ]
  },
  {
   "cell_type": "code",
   "execution_count": 66,
   "metadata": {},
   "outputs": [
    {
     "data": {
      "text/plain": [
       "<ShuffleDataset shapes: ((None, 13), (None,)), types: (tf.float64, tf.int64)>"
      ]
     },
     "execution_count": 66,
     "metadata": {},
     "output_type": "execute_result"
    }
   ],
   "source": [
    "dataset_train = tf.data.Dataset.from_tensor_slices((x_train.values,y_train.values))\n",
    "dataset_train = dataset_train.batch(16)\n",
    "\n",
    "dataset_train.shuffle(128)"
   ]
  },
  {
   "cell_type": "code",
   "execution_count": 67,
   "metadata": {},
   "outputs": [],
   "source": [
    "dataset_val = tf.data.Dataset.from_tensor_slices((x_val.values,y_val.values))\n",
    "dataset_val = dataset_val.batch(16)"
   ]
  },
  {
   "cell_type": "code",
   "execution_count": 68,
   "metadata": {},
   "outputs": [],
   "source": [
    "num_epochs = 100"
   ]
  },
  {
   "cell_type": "code",
   "execution_count": 69,
   "metadata": {},
   "outputs": [
    {
     "name": "stdout",
     "output_type": "stream",
     "text": [
      "Model: \"functional_23\"\n",
      "_________________________________________________________________\n",
      "Layer (type)                 Output Shape              Param #   \n",
      "=================================================================\n",
      "input_13 (InputLayer)        [(None, 13)]              0         \n",
      "_________________________________________________________________\n",
      "dense_34 (Dense)             (None, 12)                168       \n",
      "_________________________________________________________________\n",
      "dropout_11 (Dropout)         (None, 12)                0         \n",
      "_________________________________________________________________\n",
      "dense_35 (Dense)             (None, 8)                 104       \n",
      "_________________________________________________________________\n",
      "dense_36 (Dense)             (None, 1)                 9         \n",
      "=================================================================\n",
      "Total params: 281\n",
      "Trainable params: 281\n",
      "Non-trainable params: 0\n",
      "_________________________________________________________________\n"
     ]
    }
   ],
   "source": [
    "model = build_model()"
   ]
  },
  {
   "cell_type": "code",
   "execution_count": 70,
   "metadata": {},
   "outputs": [
    {
     "name": "stdout",
     "output_type": "stream",
     "text": [
      "Epoch 1/100\n",
      "13/13 [==============================] - 0s 25ms/step - loss: 0.7777 - accuracy: 0.5122 - precision_10: 0.5449 - recall_10: 0.7456 - val_loss: 0.7835 - val_accuracy: 0.3514 - val_precision_10: 0.4286 - val_recall_10: 0.6000\n",
      "Epoch 2/100\n",
      "13/13 [==============================] - 0s 2ms/step - loss: 0.7946 - accuracy: 0.4732 - precision_10: 0.5200 - recall_10: 0.6842 - val_loss: 0.7450 - val_accuracy: 0.4595 - val_precision_10: 0.5000 - val_recall_10: 0.6500\n",
      "Epoch 3/100\n",
      "13/13 [==============================] - 0s 2ms/step - loss: 0.7712 - accuracy: 0.4683 - precision_10: 0.5166 - recall_10: 0.6842 - val_loss: 0.7187 - val_accuracy: 0.5405 - val_precision_10: 0.5556 - val_recall_10: 0.7500\n",
      "Epoch 4/100\n",
      "13/13 [==============================] - 0s 2ms/step - loss: 0.7083 - accuracy: 0.5805 - precision_10: 0.5909 - recall_10: 0.7982 - val_loss: 0.6997 - val_accuracy: 0.5676 - val_precision_10: 0.5769 - val_recall_10: 0.7500\n",
      "Epoch 5/100\n",
      "13/13 [==============================] - 0s 2ms/step - loss: 0.7118 - accuracy: 0.5463 - precision_10: 0.5686 - recall_10: 0.7632 - val_loss: 0.6859 - val_accuracy: 0.5676 - val_precision_10: 0.5833 - val_recall_10: 0.7000\n",
      "Epoch 6/100\n",
      "13/13 [==============================] - 0s 2ms/step - loss: 0.6967 - accuracy: 0.5512 - precision_10: 0.5753 - recall_10: 0.7368 - val_loss: 0.6738 - val_accuracy: 0.5946 - val_precision_10: 0.6087 - val_recall_10: 0.7000\n",
      "Epoch 7/100\n",
      "13/13 [==============================] - 0s 2ms/step - loss: 0.6663 - accuracy: 0.6390 - precision_10: 0.6389 - recall_10: 0.8070 - val_loss: 0.6639 - val_accuracy: 0.6216 - val_precision_10: 0.6250 - val_recall_10: 0.7500\n",
      "Epoch 8/100\n",
      "13/13 [==============================] - 0s 2ms/step - loss: 0.6508 - accuracy: 0.6390 - precision_10: 0.6429 - recall_10: 0.7895 - val_loss: 0.6538 - val_accuracy: 0.7027 - val_precision_10: 0.6957 - val_recall_10: 0.8000\n",
      "Epoch 9/100\n",
      "13/13 [==============================] - 0s 2ms/step - loss: 0.6415 - accuracy: 0.7024 - precision_10: 0.6906 - recall_10: 0.8421 - val_loss: 0.6417 - val_accuracy: 0.7027 - val_precision_10: 0.6957 - val_recall_10: 0.8000\n",
      "Epoch 10/100\n",
      "13/13 [==============================] - 0s 2ms/step - loss: 0.6349 - accuracy: 0.7073 - precision_10: 0.7250 - recall_10: 0.7632 - val_loss: 0.6323 - val_accuracy: 0.7297 - val_precision_10: 0.7083 - val_recall_10: 0.8500\n",
      "Epoch 11/100\n",
      "13/13 [==============================] - 0s 2ms/step - loss: 0.6163 - accuracy: 0.6927 - precision_10: 0.7008 - recall_10: 0.7807 - val_loss: 0.6234 - val_accuracy: 0.7297 - val_precision_10: 0.7083 - val_recall_10: 0.8500\n",
      "Epoch 12/100\n",
      "13/13 [==============================] - 0s 1ms/step - loss: 0.5979 - accuracy: 0.7317 - precision_10: 0.7323 - recall_10: 0.8158 - val_loss: 0.6148 - val_accuracy: 0.7027 - val_precision_10: 0.6800 - val_recall_10: 0.8500\n",
      "Epoch 13/100\n",
      "13/13 [==============================] - 0s 2ms/step - loss: 0.5912 - accuracy: 0.7463 - precision_10: 0.7422 - recall_10: 0.8333 - val_loss: 0.6043 - val_accuracy: 0.7027 - val_precision_10: 0.6667 - val_recall_10: 0.9000\n",
      "Epoch 14/100\n",
      "13/13 [==============================] - 0s 2ms/step - loss: 0.5689 - accuracy: 0.7610 - precision_10: 0.7686 - recall_10: 0.8158 - val_loss: 0.5937 - val_accuracy: 0.7027 - val_precision_10: 0.6800 - val_recall_10: 0.8500\n",
      "Epoch 15/100\n",
      "13/13 [==============================] - 0s 2ms/step - loss: 0.5661 - accuracy: 0.7561 - precision_10: 0.7462 - recall_10: 0.8509 - val_loss: 0.5829 - val_accuracy: 0.7297 - val_precision_10: 0.6923 - val_recall_10: 0.9000\n",
      "Epoch 16/100\n",
      "13/13 [==============================] - 0s 2ms/step - loss: 0.5610 - accuracy: 0.7610 - precision_10: 0.7686 - recall_10: 0.8158 - val_loss: 0.5738 - val_accuracy: 0.7297 - val_precision_10: 0.6923 - val_recall_10: 0.9000\n",
      "Epoch 17/100\n",
      "13/13 [==============================] - 0s 2ms/step - loss: 0.5316 - accuracy: 0.7756 - precision_10: 0.7742 - recall_10: 0.8421 - val_loss: 0.5655 - val_accuracy: 0.7027 - val_precision_10: 0.6800 - val_recall_10: 0.8500\n",
      "Epoch 18/100\n",
      "13/13 [==============================] - 0s 2ms/step - loss: 0.5455 - accuracy: 0.7463 - precision_10: 0.7422 - recall_10: 0.8333 - val_loss: 0.5559 - val_accuracy: 0.7027 - val_precision_10: 0.6800 - val_recall_10: 0.8500\n",
      "Epoch 19/100\n",
      "13/13 [==============================] - 0s 2ms/step - loss: 0.5454 - accuracy: 0.7366 - precision_10: 0.7308 - recall_10: 0.8333 - val_loss: 0.5483 - val_accuracy: 0.7027 - val_precision_10: 0.6800 - val_recall_10: 0.8500\n",
      "Epoch 20/100\n",
      "13/13 [==============================] - 0s 2ms/step - loss: 0.5523 - accuracy: 0.7073 - precision_10: 0.7250 - recall_10: 0.7632 - val_loss: 0.5446 - val_accuracy: 0.6757 - val_precision_10: 0.6667 - val_recall_10: 0.8000\n",
      "Epoch 21/100\n",
      "13/13 [==============================] - 0s 2ms/step - loss: 0.5161 - accuracy: 0.7756 - precision_10: 0.7615 - recall_10: 0.8684 - val_loss: 0.5418 - val_accuracy: 0.6757 - val_precision_10: 0.6667 - val_recall_10: 0.8000\n",
      "Epoch 22/100\n",
      "13/13 [==============================] - 0s 2ms/step - loss: 0.4989 - accuracy: 0.7610 - precision_10: 0.7642 - recall_10: 0.8246 - val_loss: 0.5379 - val_accuracy: 0.6757 - val_precision_10: 0.6667 - val_recall_10: 0.8000\n",
      "Epoch 23/100\n",
      "13/13 [==============================] - 0s 2ms/step - loss: 0.5163 - accuracy: 0.7659 - precision_10: 0.7750 - recall_10: 0.8158 - val_loss: 0.5337 - val_accuracy: 0.6757 - val_precision_10: 0.6667 - val_recall_10: 0.8000\n",
      "Epoch 24/100\n",
      "13/13 [==============================] - 0s 2ms/step - loss: 0.4747 - accuracy: 0.7756 - precision_10: 0.7742 - recall_10: 0.8421 - val_loss: 0.5260 - val_accuracy: 0.6757 - val_precision_10: 0.6667 - val_recall_10: 0.8000\n",
      "Epoch 25/100\n",
      "13/13 [==============================] - 0s 2ms/step - loss: 0.4892 - accuracy: 0.7707 - precision_10: 0.7815 - recall_10: 0.8158 - val_loss: 0.5201 - val_accuracy: 0.6757 - val_precision_10: 0.6667 - val_recall_10: 0.8000\n",
      "Epoch 26/100\n",
      "13/13 [==============================] - 0s 1ms/step - loss: 0.4857 - accuracy: 0.7951 - precision_10: 0.8273 - recall_10: 0.7982 - val_loss: 0.5171 - val_accuracy: 0.6757 - val_precision_10: 0.6667 - val_recall_10: 0.8000\n",
      "Epoch 27/100\n",
      "13/13 [==============================] - 0s 2ms/step - loss: 0.4991 - accuracy: 0.7659 - precision_10: 0.7845 - recall_10: 0.7982 - val_loss: 0.5151 - val_accuracy: 0.6757 - val_precision_10: 0.6667 - val_recall_10: 0.8000\n",
      "Epoch 28/100\n",
      "13/13 [==============================] - 0s 1ms/step - loss: 0.4461 - accuracy: 0.7951 - precision_10: 0.8051 - recall_10: 0.8333 - val_loss: 0.5115 - val_accuracy: 0.6757 - val_precision_10: 0.6667 - val_recall_10: 0.8000\n",
      "Epoch 29/100\n",
      "13/13 [==============================] - 0s 2ms/step - loss: 0.4412 - accuracy: 0.8098 - precision_10: 0.8099 - recall_10: 0.8596 - val_loss: 0.5084 - val_accuracy: 0.7027 - val_precision_10: 0.6800 - val_recall_10: 0.8500\n",
      "Epoch 30/100\n",
      "13/13 [==============================] - 0s 2ms/step - loss: 0.4438 - accuracy: 0.8146 - precision_10: 0.8016 - recall_10: 0.8860 - val_loss: 0.5039 - val_accuracy: 0.7027 - val_precision_10: 0.6800 - val_recall_10: 0.8500\n",
      "Epoch 31/100\n",
      "13/13 [==============================] - 0s 2ms/step - loss: 0.4391 - accuracy: 0.8098 - precision_10: 0.8151 - recall_10: 0.8509 - val_loss: 0.4994 - val_accuracy: 0.7027 - val_precision_10: 0.6800 - val_recall_10: 0.8500\n",
      "Epoch 32/100\n",
      "13/13 [==============================] - 0s 2ms/step - loss: 0.4251 - accuracy: 0.8293 - precision_10: 0.8110 - recall_10: 0.9035 - val_loss: 0.4970 - val_accuracy: 0.7027 - val_precision_10: 0.6800 - val_recall_10: 0.8500\n",
      "Epoch 33/100\n",
      "13/13 [==============================] - 0s 2ms/step - loss: 0.4205 - accuracy: 0.8195 - precision_10: 0.8291 - recall_10: 0.8509 - val_loss: 0.4954 - val_accuracy: 0.7027 - val_precision_10: 0.6800 - val_recall_10: 0.8500\n",
      "Epoch 34/100\n",
      "13/13 [==============================] - 0s 2ms/step - loss: 0.4439 - accuracy: 0.7805 - precision_10: 0.7899 - recall_10: 0.8246 - val_loss: 0.4924 - val_accuracy: 0.7027 - val_precision_10: 0.6800 - val_recall_10: 0.8500\n",
      "Epoch 35/100\n",
      "13/13 [==============================] - 0s 2ms/step - loss: 0.4449 - accuracy: 0.7951 - precision_10: 0.8103 - recall_10: 0.8246 - val_loss: 0.4907 - val_accuracy: 0.7027 - val_precision_10: 0.6800 - val_recall_10: 0.8500\n"
     ]
    },
    {
     "name": "stdout",
     "output_type": "stream",
     "text": [
      "Epoch 36/100\n",
      "13/13 [==============================] - 0s 2ms/step - loss: 0.4401 - accuracy: 0.8244 - precision_10: 0.8305 - recall_10: 0.8596 - val_loss: 0.4907 - val_accuracy: 0.7027 - val_precision_10: 0.6800 - val_recall_10: 0.8500\n",
      "Epoch 37/100\n",
      "13/13 [==============================] - 0s 2ms/step - loss: 0.4367 - accuracy: 0.7854 - precision_10: 0.7917 - recall_10: 0.8333 - val_loss: 0.4907 - val_accuracy: 0.7027 - val_precision_10: 0.6800 - val_recall_10: 0.8500\n",
      "Epoch 38/100\n",
      "13/13 [==============================] - 0s 2ms/step - loss: 0.4483 - accuracy: 0.8049 - precision_10: 0.8190 - recall_10: 0.8333 - val_loss: 0.4907 - val_accuracy: 0.7027 - val_precision_10: 0.6800 - val_recall_10: 0.8500\n",
      "Epoch 39/100\n",
      "13/13 [==============================] - 0s 2ms/step - loss: 0.3981 - accuracy: 0.8341 - precision_10: 0.8571 - recall_10: 0.8421 - val_loss: 0.4916 - val_accuracy: 0.7027 - val_precision_10: 0.6800 - val_recall_10: 0.8500\n",
      "Epoch 40/100\n",
      "13/13 [==============================] - 0s 2ms/step - loss: 0.4162 - accuracy: 0.8049 - precision_10: 0.8083 - recall_10: 0.8509 - val_loss: 0.4909 - val_accuracy: 0.7027 - val_precision_10: 0.6800 - val_recall_10: 0.8500\n",
      "Epoch 41/100\n",
      "13/13 [==============================] - 0s 1ms/step - loss: 0.4266 - accuracy: 0.8146 - precision_10: 0.7969 - recall_10: 0.8947 - val_loss: 0.4900 - val_accuracy: 0.7027 - val_precision_10: 0.6800 - val_recall_10: 0.8500\n",
      "Epoch 42/100\n",
      "13/13 [==============================] - 0s 2ms/step - loss: 0.4295 - accuracy: 0.8341 - precision_10: 0.8175 - recall_10: 0.9035 - val_loss: 0.4907 - val_accuracy: 0.7027 - val_precision_10: 0.6800 - val_recall_10: 0.8500\n",
      "Epoch 43/100\n",
      "13/13 [==============================] - 0s 1ms/step - loss: 0.3915 - accuracy: 0.8537 - precision_10: 0.8500 - recall_10: 0.8947 - val_loss: 0.4911 - val_accuracy: 0.7027 - val_precision_10: 0.6800 - val_recall_10: 0.8500\n",
      "Epoch 44/100\n",
      "13/13 [==============================] - 0s 1ms/step - loss: 0.4469 - accuracy: 0.7610 - precision_10: 0.7642 - recall_10: 0.8246 - val_loss: 0.4923 - val_accuracy: 0.7027 - val_precision_10: 0.6800 - val_recall_10: 0.8500\n",
      "Epoch 45/100\n",
      "13/13 [==============================] - 0s 1ms/step - loss: 0.4018 - accuracy: 0.8341 - precision_10: 0.8390 - recall_10: 0.8684 - val_loss: 0.4924 - val_accuracy: 0.7027 - val_precision_10: 0.6800 - val_recall_10: 0.8500\n",
      "Epoch 46/100\n",
      "13/13 [==============================] - 0s 1ms/step - loss: 0.4072 - accuracy: 0.8439 - precision_10: 0.8417 - recall_10: 0.8860 - val_loss: 0.4910 - val_accuracy: 0.7297 - val_precision_10: 0.7083 - val_recall_10: 0.8500\n",
      "Epoch 47/100\n",
      "13/13 [==============================] - 0s 1ms/step - loss: 0.3977 - accuracy: 0.8341 - precision_10: 0.8226 - recall_10: 0.8947 - val_loss: 0.4889 - val_accuracy: 0.7297 - val_precision_10: 0.7083 - val_recall_10: 0.8500\n",
      "Epoch 48/100\n",
      "13/13 [==============================] - 0s 1ms/step - loss: 0.4259 - accuracy: 0.8000 - precision_10: 0.8017 - recall_10: 0.8509 - val_loss: 0.4891 - val_accuracy: 0.7297 - val_precision_10: 0.7083 - val_recall_10: 0.8500\n",
      "Epoch 49/100\n",
      "13/13 [==============================] - 0s 2ms/step - loss: 0.3764 - accuracy: 0.8488 - precision_10: 0.8430 - recall_10: 0.8947 - val_loss: 0.4890 - val_accuracy: 0.7297 - val_precision_10: 0.7083 - val_recall_10: 0.8500\n",
      "Epoch 50/100\n",
      "13/13 [==============================] - 0s 1ms/step - loss: 0.3256 - accuracy: 0.8634 - precision_10: 0.8525 - recall_10: 0.9123 - val_loss: 0.4885 - val_accuracy: 0.7297 - val_precision_10: 0.7083 - val_recall_10: 0.8500\n",
      "Epoch 51/100\n",
      "13/13 [==============================] - 0s 1ms/step - loss: 0.3962 - accuracy: 0.8049 - precision_10: 0.8190 - recall_10: 0.8333 - val_loss: 0.4883 - val_accuracy: 0.7297 - val_precision_10: 0.7083 - val_recall_10: 0.8500\n",
      "Epoch 52/100\n",
      "13/13 [==============================] - 0s 1ms/step - loss: 0.4060 - accuracy: 0.8244 - precision_10: 0.8047 - recall_10: 0.9035 - val_loss: 0.4896 - val_accuracy: 0.7297 - val_precision_10: 0.7083 - val_recall_10: 0.8500\n",
      "Epoch 53/100\n",
      "13/13 [==============================] - 0s 1ms/step - loss: 0.3885 - accuracy: 0.8195 - precision_10: 0.8291 - recall_10: 0.8509 - val_loss: 0.4902 - val_accuracy: 0.7297 - val_precision_10: 0.7083 - val_recall_10: 0.8500\n",
      "Epoch 54/100\n",
      "13/13 [==============================] - 0s 1ms/step - loss: 0.3698 - accuracy: 0.8683 - precision_10: 0.8537 - recall_10: 0.9211 - val_loss: 0.4895 - val_accuracy: 0.7297 - val_precision_10: 0.7083 - val_recall_10: 0.8500\n",
      "Epoch 55/100\n",
      "13/13 [==============================] - 0s 1ms/step - loss: 0.3754 - accuracy: 0.8390 - precision_10: 0.8403 - recall_10: 0.8772 - val_loss: 0.4904 - val_accuracy: 0.7297 - val_precision_10: 0.7083 - val_recall_10: 0.8500\n",
      "Epoch 56/100\n",
      "13/13 [==============================] - 0s 1ms/step - loss: 0.3982 - accuracy: 0.8098 - precision_10: 0.7820 - recall_10: 0.9123 - val_loss: 0.4907 - val_accuracy: 0.7297 - val_precision_10: 0.7083 - val_recall_10: 0.8500\n",
      "Epoch 57/100\n",
      "13/13 [==============================] - 0s 1ms/step - loss: 0.3791 - accuracy: 0.8439 - precision_10: 0.8475 - recall_10: 0.8772 - val_loss: 0.4896 - val_accuracy: 0.7297 - val_precision_10: 0.7083 - val_recall_10: 0.8500\n",
      "Epoch 58/100\n",
      "13/13 [==============================] - 0s 1ms/step - loss: 0.3569 - accuracy: 0.8878 - precision_10: 0.8824 - recall_10: 0.9211 - val_loss: 0.4894 - val_accuracy: 0.7297 - val_precision_10: 0.7083 - val_recall_10: 0.8500\n",
      "Epoch 59/100\n",
      "13/13 [==============================] - 0s 1ms/step - loss: 0.3674 - accuracy: 0.8390 - precision_10: 0.8347 - recall_10: 0.8860 - val_loss: 0.4894 - val_accuracy: 0.7297 - val_precision_10: 0.7083 - val_recall_10: 0.8500\n",
      "Epoch 60/100\n",
      "13/13 [==============================] - 0s 1ms/step - loss: 0.3849 - accuracy: 0.8195 - precision_10: 0.8080 - recall_10: 0.8860 - val_loss: 0.4913 - val_accuracy: 0.7297 - val_precision_10: 0.7083 - val_recall_10: 0.8500\n",
      "Epoch 61/100\n",
      "13/13 [==============================] - 0s 1ms/step - loss: 0.3795 - accuracy: 0.8098 - precision_10: 0.7953 - recall_10: 0.8860 - val_loss: 0.4910 - val_accuracy: 0.7297 - val_precision_10: 0.7083 - val_recall_10: 0.8500\n",
      "Epoch 62/100\n",
      "13/13 [==============================] - 0s 1ms/step - loss: 0.3779 - accuracy: 0.8293 - precision_10: 0.8319 - recall_10: 0.8684 - val_loss: 0.4908 - val_accuracy: 0.7297 - val_precision_10: 0.7083 - val_recall_10: 0.8500\n",
      "Epoch 63/100\n",
      "13/13 [==============================] - 0s 1ms/step - loss: 0.3765 - accuracy: 0.8244 - precision_10: 0.8482 - recall_10: 0.8333 - val_loss: 0.4908 - val_accuracy: 0.7297 - val_precision_10: 0.7083 - val_recall_10: 0.8500\n",
      "Epoch 64/100\n",
      "13/13 [==============================] - 0s 1ms/step - loss: 0.3943 - accuracy: 0.8244 - precision_10: 0.8250 - recall_10: 0.8684 - val_loss: 0.4904 - val_accuracy: 0.7297 - val_precision_10: 0.7083 - val_recall_10: 0.8500\n",
      "Epoch 65/100\n",
      "13/13 [==============================] - 0s 2ms/step - loss: 0.3523 - accuracy: 0.8537 - precision_10: 0.8387 - recall_10: 0.9123 - val_loss: 0.4902 - val_accuracy: 0.7297 - val_precision_10: 0.7083 - val_recall_10: 0.8500\n",
      "Epoch 66/100\n",
      "13/13 [==============================] - 0s 1ms/step - loss: 0.3701 - accuracy: 0.8537 - precision_10: 0.8443 - recall_10: 0.9035 - val_loss: 0.4890 - val_accuracy: 0.7297 - val_precision_10: 0.7083 - val_recall_10: 0.8500\n",
      "Epoch 67/100\n",
      "13/13 [==============================] - 0s 1ms/step - loss: 0.3551 - accuracy: 0.8537 - precision_10: 0.8443 - recall_10: 0.9035 - val_loss: 0.4887 - val_accuracy: 0.7297 - val_precision_10: 0.7083 - val_recall_10: 0.8500\n",
      "Epoch 68/100\n",
      "13/13 [==============================] - 0s 1ms/step - loss: 0.3265 - accuracy: 0.8829 - precision_10: 0.8879 - recall_10: 0.9035 - val_loss: 0.4887 - val_accuracy: 0.7297 - val_precision_10: 0.7083 - val_recall_10: 0.8500\n",
      "Epoch 69/100\n",
      "13/13 [==============================] - 0s 1ms/step - loss: 0.3732 - accuracy: 0.8488 - precision_10: 0.8487 - recall_10: 0.8860 - val_loss: 0.4883 - val_accuracy: 0.7297 - val_precision_10: 0.7083 - val_recall_10: 0.8500\n",
      "Epoch 70/100\n",
      "13/13 [==============================] - 0s 1ms/step - loss: 0.3526 - accuracy: 0.8439 - precision_10: 0.8361 - recall_10: 0.8947 - val_loss: 0.4884 - val_accuracy: 0.7027 - val_precision_10: 0.6800 - val_recall_10: 0.8500\n"
     ]
    },
    {
     "name": "stdout",
     "output_type": "stream",
     "text": [
      "Epoch 71/100\n",
      "13/13 [==============================] - 0s 1ms/step - loss: 0.3352 - accuracy: 0.8585 - precision_10: 0.8571 - recall_10: 0.8947 - val_loss: 0.4897 - val_accuracy: 0.7297 - val_precision_10: 0.7083 - val_recall_10: 0.8500\n",
      "Epoch 72/100\n",
      "13/13 [==============================] - 0s 1ms/step - loss: 0.3581 - accuracy: 0.8390 - precision_10: 0.8403 - recall_10: 0.8772 - val_loss: 0.4932 - val_accuracy: 0.7027 - val_precision_10: 0.6800 - val_recall_10: 0.8500\n",
      "Epoch 73/100\n",
      "13/13 [==============================] - 0s 1ms/step - loss: 0.3406 - accuracy: 0.8488 - precision_10: 0.8217 - recall_10: 0.9298 - val_loss: 0.4929 - val_accuracy: 0.7027 - val_precision_10: 0.6800 - val_recall_10: 0.8500\n",
      "Epoch 74/100\n",
      "13/13 [==============================] - 0s 1ms/step - loss: 0.3521 - accuracy: 0.8537 - precision_10: 0.8443 - recall_10: 0.9035 - val_loss: 0.4926 - val_accuracy: 0.7297 - val_precision_10: 0.7083 - val_recall_10: 0.8500\n",
      "Epoch 75/100\n",
      "13/13 [==============================] - 0s 1ms/step - loss: 0.3657 - accuracy: 0.8195 - precision_10: 0.8130 - recall_10: 0.8772 - val_loss: 0.4922 - val_accuracy: 0.7297 - val_precision_10: 0.7083 - val_recall_10: 0.8500\n",
      "Epoch 76/100\n",
      "13/13 [==============================] - 0s 1ms/step - loss: 0.3383 - accuracy: 0.8683 - precision_10: 0.8480 - recall_10: 0.9298 - val_loss: 0.4943 - val_accuracy: 0.7297 - val_precision_10: 0.7083 - val_recall_10: 0.8500\n",
      "Epoch 77/100\n",
      "13/13 [==============================] - 0s 1ms/step - loss: 0.3419 - accuracy: 0.8732 - precision_10: 0.8667 - recall_10: 0.9123 - val_loss: 0.4973 - val_accuracy: 0.7297 - val_precision_10: 0.7083 - val_recall_10: 0.8500\n",
      "Epoch 78/100\n",
      "13/13 [==============================] - 0s 1ms/step - loss: 0.3496 - accuracy: 0.8390 - precision_10: 0.8347 - recall_10: 0.8860 - val_loss: 0.4977 - val_accuracy: 0.7027 - val_precision_10: 0.6800 - val_recall_10: 0.8500\n",
      "Epoch 79/100\n",
      "13/13 [==============================] - 0s 1ms/step - loss: 0.3727 - accuracy: 0.8439 - precision_10: 0.8361 - recall_10: 0.8947 - val_loss: 0.4961 - val_accuracy: 0.7027 - val_precision_10: 0.6800 - val_recall_10: 0.8500\n",
      "Epoch 80/100\n",
      "13/13 [==============================] - 0s 1ms/step - loss: 0.3533 - accuracy: 0.8537 - precision_10: 0.8387 - recall_10: 0.9123 - val_loss: 0.4952 - val_accuracy: 0.7297 - val_precision_10: 0.6923 - val_recall_10: 0.9000\n",
      "Epoch 81/100\n",
      "13/13 [==============================] - 0s 1ms/step - loss: 0.3501 - accuracy: 0.8390 - precision_10: 0.8347 - recall_10: 0.8860 - val_loss: 0.4961 - val_accuracy: 0.7297 - val_precision_10: 0.6923 - val_recall_10: 0.9000\n",
      "Epoch 82/100\n",
      "13/13 [==============================] - 0s 1ms/step - loss: 0.3372 - accuracy: 0.8293 - precision_10: 0.8264 - recall_10: 0.8772 - val_loss: 0.4973 - val_accuracy: 0.7297 - val_precision_10: 0.6923 - val_recall_10: 0.9000\n",
      "Epoch 83/100\n",
      "13/13 [==============================] - 0s 1ms/step - loss: 0.3666 - accuracy: 0.8293 - precision_10: 0.8160 - recall_10: 0.8947 - val_loss: 0.4979 - val_accuracy: 0.7297 - val_precision_10: 0.6923 - val_recall_10: 0.9000\n",
      "Epoch 84/100\n",
      "13/13 [==============================] - 0s 1ms/step - loss: 0.3470 - accuracy: 0.8585 - precision_10: 0.8455 - recall_10: 0.9123 - val_loss: 0.5006 - val_accuracy: 0.7297 - val_precision_10: 0.6923 - val_recall_10: 0.9000\n",
      "Epoch 85/100\n",
      "13/13 [==============================] - 0s 1ms/step - loss: 0.3524 - accuracy: 0.8488 - precision_10: 0.8430 - recall_10: 0.8947 - val_loss: 0.5033 - val_accuracy: 0.7297 - val_precision_10: 0.6923 - val_recall_10: 0.9000\n",
      "Epoch 86/100\n",
      "13/13 [==============================] - 0s 1ms/step - loss: 0.3136 - accuracy: 0.8732 - precision_10: 0.8492 - recall_10: 0.9386 - val_loss: 0.5057 - val_accuracy: 0.7297 - val_precision_10: 0.6923 - val_recall_10: 0.9000\n",
      "Epoch 87/100\n",
      "13/13 [==============================] - 0s 1ms/step - loss: 0.3147 - accuracy: 0.8927 - precision_10: 0.8710 - recall_10: 0.9474 - val_loss: 0.5080 - val_accuracy: 0.7297 - val_precision_10: 0.6923 - val_recall_10: 0.9000\n",
      "Epoch 88/100\n",
      "13/13 [==============================] - 0s 1ms/step - loss: 0.3337 - accuracy: 0.8732 - precision_10: 0.8548 - recall_10: 0.9298 - val_loss: 0.5087 - val_accuracy: 0.7297 - val_precision_10: 0.6923 - val_recall_10: 0.9000\n",
      "Epoch 89/100\n",
      "13/13 [==============================] - 0s 1ms/step - loss: 0.3211 - accuracy: 0.8634 - precision_10: 0.8468 - recall_10: 0.9211 - val_loss: 0.5081 - val_accuracy: 0.7297 - val_precision_10: 0.6923 - val_recall_10: 0.9000\n",
      "Epoch 90/100\n",
      "13/13 [==============================] - 0s 1ms/step - loss: 0.3527 - accuracy: 0.8537 - precision_10: 0.8559 - recall_10: 0.8860 - val_loss: 0.5078 - val_accuracy: 0.7297 - val_precision_10: 0.6923 - val_recall_10: 0.9000\n",
      "Epoch 91/100\n",
      "13/13 [==============================] - 0s 1ms/step - loss: 0.3041 - accuracy: 0.8780 - precision_10: 0.8678 - recall_10: 0.9211 - val_loss: 0.5081 - val_accuracy: 0.7027 - val_precision_10: 0.6800 - val_recall_10: 0.8500\n",
      "Epoch 92/100\n",
      "13/13 [==============================] - 0s 1ms/step - loss: 0.3470 - accuracy: 0.8439 - precision_10: 0.8203 - recall_10: 0.9211 - val_loss: 0.5083 - val_accuracy: 0.7027 - val_precision_10: 0.6800 - val_recall_10: 0.8500\n",
      "Epoch 93/100\n",
      "13/13 [==============================] - 0s 1ms/step - loss: 0.3341 - accuracy: 0.8780 - precision_10: 0.8870 - recall_10: 0.8947 - val_loss: 0.5079 - val_accuracy: 0.7297 - val_precision_10: 0.6923 - val_recall_10: 0.9000\n",
      "Epoch 94/100\n",
      "13/13 [==============================] - 0s 2ms/step - loss: 0.3153 - accuracy: 0.8780 - precision_10: 0.8739 - recall_10: 0.9123 - val_loss: 0.5095 - val_accuracy: 0.7027 - val_precision_10: 0.6800 - val_recall_10: 0.8500\n",
      "Epoch 95/100\n",
      "13/13 [==============================] - 0s 1ms/step - loss: 0.3201 - accuracy: 0.8732 - precision_10: 0.8607 - recall_10: 0.9211 - val_loss: 0.5103 - val_accuracy: 0.7297 - val_precision_10: 0.6923 - val_recall_10: 0.9000\n",
      "Epoch 96/100\n",
      "13/13 [==============================] - 0s 1ms/step - loss: 0.2860 - accuracy: 0.8878 - precision_10: 0.8760 - recall_10: 0.9298 - val_loss: 0.5127 - val_accuracy: 0.7297 - val_precision_10: 0.6923 - val_recall_10: 0.9000\n",
      "Epoch 97/100\n",
      "13/13 [==============================] - 0s 1ms/step - loss: 0.3320 - accuracy: 0.8390 - precision_10: 0.8347 - recall_10: 0.8860 - val_loss: 0.5139 - val_accuracy: 0.7297 - val_precision_10: 0.6923 - val_recall_10: 0.9000\n",
      "Epoch 98/100\n",
      "13/13 [==============================] - 0s 1ms/step - loss: 0.3298 - accuracy: 0.8829 - precision_10: 0.8689 - recall_10: 0.9298 - val_loss: 0.5161 - val_accuracy: 0.7297 - val_precision_10: 0.6923 - val_recall_10: 0.9000\n",
      "Epoch 99/100\n",
      "13/13 [==============================] - 0s 2ms/step - loss: 0.3332 - accuracy: 0.8488 - precision_10: 0.8320 - recall_10: 0.9123 - val_loss: 0.5156 - val_accuracy: 0.7297 - val_precision_10: 0.6923 - val_recall_10: 0.9000\n",
      "Epoch 100/100\n",
      "13/13 [==============================] - 0s 2ms/step - loss: 0.3155 - accuracy: 0.8634 - precision_10: 0.8413 - recall_10: 0.9298 - val_loss: 0.5136 - val_accuracy: 0.7027 - val_precision_10: 0.6800 - val_recall_10: 0.8500\n"
     ]
    },
    {
     "data": {
      "text/plain": [
       "<tensorflow.python.keras.callbacks.History at 0x1c03ee43ac0>"
      ]
     },
     "execution_count": 70,
     "metadata": {},
     "output_type": "execute_result"
    }
   ],
   "source": [
    "training_history = model.fit(dataset_train, epochs = num_epochs, validation_data = dataset_val)\n",
    "training_history"
   ]
  },
  {
   "cell_type": "code",
   "execution_count": 71,
   "metadata": {},
   "outputs": [
    {
     "data": {
      "text/plain": [
       "dict_keys(['loss', 'accuracy', 'precision_10', 'recall_10', 'val_loss', 'val_accuracy', 'val_precision_10', 'val_recall_10'])"
      ]
     },
     "execution_count": 71,
     "metadata": {},
     "output_type": "execute_result"
    }
   ],
   "source": [
    "training_history.history.keys()"
   ]
  },
  {
   "cell_type": "code",
   "execution_count": 74,
   "metadata": {},
   "outputs": [
    {
     "data": {
      "image/png": "[encoded data removed]",
      "text/plain": [
       "<Figure size 1008x576 with 2 Axes>"
      ]
     },
     "metadata": {
      "needs_background": "light"
     },
     "output_type": "display_data"
    }
   ],
   "source": [
    "train_acc = training_history.history['accuracy']\n",
    "train_loss = training_history.history['loss']\n",
    "\n",
    "precision = training_history.history['precision_10']\n",
    "recall = training_history.history['recall_10']\n",
    "\n",
    "epochs_range = range(num_epochs)\n",
    "\n",
    "plt.figure(figsize = (14,8))\n",
    "\n",
    "plt.subplot(1,2,1)\n",
    "\n",
    "plt.plot(epochs_range,train_acc, label = \"Training Accuracy\")\n",
    "plt.plot(epochs_range,train_loss, label = \"Training Loss\")\n",
    "\n",
    "plt.title(\"Accuracy and Loss\")\n",
    "plt.legend()\n",
    "\n",
    "plt.subplot(1,2,2)\n",
    "\n",
    "plt.plot(epochs_range, precision, label = \"Precision\")\n",
    "plt.plot(epochs_range, recall, label = \"Recall\")\n",
    "\n",
    "plt.title(\"Precision and Recall\")\n",
    "plt.legend()\n",
    "\n",
    "plt.show()"
   ]
  },
  {
   "cell_type": "code",
   "execution_count": 76,
   "metadata": {},
   "outputs": [
    {
     "name": "stdout",
     "output_type": "stream",
     "text": [
      "2/2 [==============================] - 0s 998us/step - loss: 0.5576 - accuracy: 0.7213 - precision_10: 0.6842 - recall_10: 0.8387\n"
     ]
    },
    {
     "data": {
      "text/plain": [
       "loss            0.557562\n",
       "accuracy        0.721311\n",
       "precision_10    0.684211\n",
       "recall_10       0.838710\n",
       "dtype: float64"
      ]
     },
     "execution_count": 76,
     "metadata": {},
     "output_type": "execute_result"
    }
   ],
   "source": [
    "score = model.evaluate(x_test,y_test)\n",
    "\n",
    "score_df = pd.Series(score, index = model.metrics_names)\n",
    "score_df"
   ]
  },
  {
   "cell_type": "code",
   "execution_count": 77,
   "metadata": {},
   "outputs": [
    {
     "data": {
      "text/plain": [
       "array([[0.00614873],\n",
       "       [0.7852839 ],\n",
       "       [0.04615679],\n",
       "       [0.01945293],\n",
       "       [0.02074376],\n",
       "       [0.01471949],\n",
       "       [0.00518247],\n",
       "       [0.40783927],\n",
       "       [0.00687584],\n",
       "       [0.9614452 ]], dtype=float32)"
      ]
     },
     "execution_count": 77,
     "metadata": {},
     "output_type": "execute_result"
    }
   ],
   "source": [
    "y_pred = model.predict(x_test)\n",
    "\n",
    "y_pred[:10]"
   ]
  },
  {
   "cell_type": "code",
   "execution_count": 78,
   "metadata": {},
   "outputs": [],
   "source": [
    "y_pred = np.where(y_pred >= 0.5, 1, y_pred)\n",
    "y_pred = np.where(y_pred < 0.5, 0, y_pred)"
   ]
  },
  {
   "cell_type": "code",
   "execution_count": 79,
   "metadata": {},
   "outputs": [
    {
     "data": {
      "text/plain": [
       "array([[0.],\n",
       "       [1.],\n",
       "       [0.],\n",
       "       [0.],\n",
       "       [0.],\n",
       "       [0.],\n",
       "       [0.],\n",
       "       [0.],\n",
       "       [0.],\n",
       "       [1.]], dtype=float32)"
      ]
     },
     "execution_count": 79,
     "metadata": {},
     "output_type": "execute_result"
    }
   ],
   "source": [
    "y_pred[:10]"
   ]
  },
  {
   "cell_type": "code",
   "execution_count": 81,
   "metadata": {},
   "outputs": [],
   "source": [
    "pred_results = pd.DataFrame({\"y_test\":y_test.values.flatten(),\n",
    "                            \"y_pred\":y_pred.flatten().astype(\"int32\")}, index = range(len(y_pred)))"
   ]
  },
  {
   "cell_type": "code",
   "execution_count": 82,
   "metadata": {},
   "outputs": [
    {
     "data": {
      "text/html": [
       "<div>\n",
       "<style scoped>\n",
       "    .dataframe tbody tr th:only-of-type {\n",
       "        vertical-align: middle;\n",
       "    }\n",
       "\n",
       "    .dataframe tbody tr th {\n",
       "        vertical-align: top;\n",
       "    }\n",
       "\n",
       "    .dataframe thead th {\n",
       "        text-align: right;\n",
       "    }\n",
       "</style>\n",
       "<table border=\"1\" class=\"dataframe\">\n",
       "  <thead>\n",
       "    <tr style=\"text-align: right;\">\n",
       "      <th></th>\n",
       "      <th>y_test</th>\n",
       "      <th>y_pred</th>\n",
       "    </tr>\n",
       "  </thead>\n",
       "  <tbody>\n",
       "    <tr>\n",
       "      <th>57</th>\n",
       "      <td>0</td>\n",
       "      <td>0</td>\n",
       "    </tr>\n",
       "    <tr>\n",
       "      <th>19</th>\n",
       "      <td>0</td>\n",
       "      <td>1</td>\n",
       "    </tr>\n",
       "    <tr>\n",
       "      <th>33</th>\n",
       "      <td>1</td>\n",
       "      <td>1</td>\n",
       "    </tr>\n",
       "    <tr>\n",
       "      <th>43</th>\n",
       "      <td>0</td>\n",
       "      <td>0</td>\n",
       "    </tr>\n",
       "    <tr>\n",
       "      <th>24</th>\n",
       "      <td>1</td>\n",
       "      <td>1</td>\n",
       "    </tr>\n",
       "    <tr>\n",
       "      <th>50</th>\n",
       "      <td>1</td>\n",
       "      <td>1</td>\n",
       "    </tr>\n",
       "    <tr>\n",
       "      <th>8</th>\n",
       "      <td>0</td>\n",
       "      <td>0</td>\n",
       "    </tr>\n",
       "    <tr>\n",
       "      <th>53</th>\n",
       "      <td>1</td>\n",
       "      <td>1</td>\n",
       "    </tr>\n",
       "    <tr>\n",
       "      <th>3</th>\n",
       "      <td>0</td>\n",
       "      <td>0</td>\n",
       "    </tr>\n",
       "    <tr>\n",
       "      <th>56</th>\n",
       "      <td>1</td>\n",
       "      <td>1</td>\n",
       "    </tr>\n",
       "  </tbody>\n",
       "</table>\n",
       "</div>"
      ],
      "text/plain": [
       "    y_test  y_pred\n",
       "57       0       0\n",
       "19       0       1\n",
       "33       1       1\n",
       "43       0       0\n",
       "24       1       1\n",
       "50       1       1\n",
       "8        0       0\n",
       "53       1       1\n",
       "3        0       0\n",
       "56       1       1"
      ]
     },
     "execution_count": 82,
     "metadata": {},
     "output_type": "execute_result"
    }
   ],
   "source": [
    "pred_results.sample(10)"
   ]
  },
  {
   "cell_type": "code",
   "execution_count": 83,
   "metadata": {},
   "outputs": [
    {
     "data": {
      "text/html": [
       "<div>\n",
       "<style scoped>\n",
       "    .dataframe tbody tr th:only-of-type {\n",
       "        vertical-align: middle;\n",
       "    }\n",
       "\n",
       "    .dataframe tbody tr th {\n",
       "        vertical-align: top;\n",
       "    }\n",
       "\n",
       "    .dataframe thead th {\n",
       "        text-align: right;\n",
       "    }\n",
       "</style>\n",
       "<table border=\"1\" class=\"dataframe\">\n",
       "  <thead>\n",
       "    <tr style=\"text-align: right;\">\n",
       "      <th>y_test</th>\n",
       "      <th>0</th>\n",
       "      <th>1</th>\n",
       "    </tr>\n",
       "    <tr>\n",
       "      <th>y_pred</th>\n",
       "      <th></th>\n",
       "      <th></th>\n",
       "    </tr>\n",
       "  </thead>\n",
       "  <tbody>\n",
       "    <tr>\n",
       "      <th>0</th>\n",
       "      <td>18</td>\n",
       "      <td>5</td>\n",
       "    </tr>\n",
       "    <tr>\n",
       "      <th>1</th>\n",
       "      <td>12</td>\n",
       "      <td>26</td>\n",
       "    </tr>\n",
       "  </tbody>\n",
       "</table>\n",
       "</div>"
      ],
      "text/plain": [
       "y_test   0   1\n",
       "y_pred        \n",
       "0       18   5\n",
       "1       12  26"
      ]
     },
     "execution_count": 83,
     "metadata": {},
     "output_type": "execute_result"
    }
   ],
   "source": [
    "pd.crosstab(pred_results.y_pred, pred_results.y_test)"
   ]
  },
  {
   "cell_type": "code",
   "execution_count": null,
   "metadata": {},
   "outputs": [],
   "source": []
  }
 ],
 "metadata": {
  "kernelspec": {
   "display_name": "Python 3",
   "language": "python",
   "name": "python3"
  },
  "language_info": {
   "codemirror_mode": {
    "name": "ipython",
    "version": 3
   },
   "file_extension": ".py",
   "mimetype": "text/x-python",
   "name": "python",
   "nbconvert_exporter": "python",
   "pygments_lexer": "ipython3",
   "version": "3.8.3"
  }
 },
 "nbformat": 4,
 "nbformat_minor": 4
}
