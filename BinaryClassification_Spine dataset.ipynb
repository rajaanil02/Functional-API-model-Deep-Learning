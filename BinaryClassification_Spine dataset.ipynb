{
 "cells": [
  {
   "cell_type": "code",
   "execution_count": 128,
   "metadata": {},
   "outputs": [],
   "source": [
    "import os\n",
    "import datetime\n",
    "\n",
    "import numpy as np\n",
    "import pandas as pd\n",
    "import matplotlib.pyplot as plt\n",
    "import seaborn as sns\n",
    "\n",
    "from sklearn.preprocessing import StandardScaler\n",
    "from sklearn.metrics import accuracy_score, precision_score, recall_score\n",
    "\n",
    "import tensorflow as tf\n",
    "from tensorflow import keras\n",
    "from tensorflow.keras import layers"
   ]
  },
  {
   "cell_type": "code",
   "execution_count": 129,
   "metadata": {},
   "outputs": [],
   "source": [
    "# Destroy the current tensorflow graph and session and creates a new one\n",
    "\n",
    "tf.keras.backend.clear_session()"
   ]
  },
  {
   "cell_type": "code",
   "execution_count": 130,
   "metadata": {},
   "outputs": [],
   "source": [
    "spine_data = pd.read_csv(\"Dataset_spine.csv\")"
   ]
  },
  {
   "cell_type": "code",
   "execution_count": 131,
   "metadata": {},
   "outputs": [
    {
     "data": {
      "text/html": [
       "<div>\n",
       "<style scoped>\n",
       "    .dataframe tbody tr th:only-of-type {\n",
       "        vertical-align: middle;\n",
       "    }\n",
       "\n",
       "    .dataframe tbody tr th {\n",
       "        vertical-align: top;\n",
       "    }\n",
       "\n",
       "    .dataframe thead th {\n",
       "        text-align: right;\n",
       "    }\n",
       "</style>\n",
       "<table border=\"1\" class=\"dataframe\">\n",
       "  <thead>\n",
       "    <tr style=\"text-align: right;\">\n",
       "      <th></th>\n",
       "      <th>Col1</th>\n",
       "      <th>Col2</th>\n",
       "      <th>Col3</th>\n",
       "      <th>Col4</th>\n",
       "      <th>Col5</th>\n",
       "      <th>Col6</th>\n",
       "      <th>Col7</th>\n",
       "      <th>Col8</th>\n",
       "      <th>Col9</th>\n",
       "      <th>Col10</th>\n",
       "      <th>Col11</th>\n",
       "      <th>Col12</th>\n",
       "      <th>Class_att</th>\n",
       "      <th>Unnamed: 13</th>\n",
       "    </tr>\n",
       "  </thead>\n",
       "  <tbody>\n",
       "    <tr>\n",
       "      <th>0</th>\n",
       "      <td>63.027818</td>\n",
       "      <td>22.552586</td>\n",
       "      <td>39.609117</td>\n",
       "      <td>40.475232</td>\n",
       "      <td>98.672917</td>\n",
       "      <td>-0.254400</td>\n",
       "      <td>0.744503</td>\n",
       "      <td>12.5661</td>\n",
       "      <td>14.5386</td>\n",
       "      <td>15.30468</td>\n",
       "      <td>-28.658501</td>\n",
       "      <td>43.5123</td>\n",
       "      <td>Abnormal</td>\n",
       "      <td>NaN</td>\n",
       "    </tr>\n",
       "    <tr>\n",
       "      <th>1</th>\n",
       "      <td>39.056951</td>\n",
       "      <td>10.060991</td>\n",
       "      <td>25.015378</td>\n",
       "      <td>28.995960</td>\n",
       "      <td>114.405425</td>\n",
       "      <td>4.564259</td>\n",
       "      <td>0.415186</td>\n",
       "      <td>12.8874</td>\n",
       "      <td>17.5323</td>\n",
       "      <td>16.78486</td>\n",
       "      <td>-25.530607</td>\n",
       "      <td>16.1102</td>\n",
       "      <td>Abnormal</td>\n",
       "      <td>NaN</td>\n",
       "    </tr>\n",
       "    <tr>\n",
       "      <th>2</th>\n",
       "      <td>68.832021</td>\n",
       "      <td>22.218482</td>\n",
       "      <td>50.092194</td>\n",
       "      <td>46.613539</td>\n",
       "      <td>105.985135</td>\n",
       "      <td>-3.530317</td>\n",
       "      <td>0.474889</td>\n",
       "      <td>26.8343</td>\n",
       "      <td>17.4861</td>\n",
       "      <td>16.65897</td>\n",
       "      <td>-29.031888</td>\n",
       "      <td>19.2221</td>\n",
       "      <td>Abnormal</td>\n",
       "      <td>Prediction is done by using binary classificat...</td>\n",
       "    </tr>\n",
       "    <tr>\n",
       "      <th>3</th>\n",
       "      <td>69.297008</td>\n",
       "      <td>24.652878</td>\n",
       "      <td>44.311238</td>\n",
       "      <td>44.644130</td>\n",
       "      <td>101.868495</td>\n",
       "      <td>11.211523</td>\n",
       "      <td>0.369345</td>\n",
       "      <td>23.5603</td>\n",
       "      <td>12.7074</td>\n",
       "      <td>11.42447</td>\n",
       "      <td>-30.470246</td>\n",
       "      <td>18.8329</td>\n",
       "      <td>Abnormal</td>\n",
       "      <td>NaN</td>\n",
       "    </tr>\n",
       "    <tr>\n",
       "      <th>4</th>\n",
       "      <td>49.712859</td>\n",
       "      <td>9.652075</td>\n",
       "      <td>28.317406</td>\n",
       "      <td>40.060784</td>\n",
       "      <td>108.168725</td>\n",
       "      <td>7.918501</td>\n",
       "      <td>0.543360</td>\n",
       "      <td>35.4940</td>\n",
       "      <td>15.9546</td>\n",
       "      <td>8.87237</td>\n",
       "      <td>-16.378376</td>\n",
       "      <td>24.9171</td>\n",
       "      <td>Abnormal</td>\n",
       "      <td>NaN</td>\n",
       "    </tr>\n",
       "  </tbody>\n",
       "</table>\n",
       "</div>"
      ],
      "text/plain": [
       "        Col1       Col2       Col3       Col4        Col5       Col6  \\\n",
       "0  63.027818  22.552586  39.609117  40.475232   98.672917  -0.254400   \n",
       "1  39.056951  10.060991  25.015378  28.995960  114.405425   4.564259   \n",
       "2  68.832021  22.218482  50.092194  46.613539  105.985135  -3.530317   \n",
       "3  69.297008  24.652878  44.311238  44.644130  101.868495  11.211523   \n",
       "4  49.712859   9.652075  28.317406  40.060784  108.168725   7.918501   \n",
       "\n",
       "       Col7     Col8     Col9     Col10      Col11    Col12 Class_att  \\\n",
       "0  0.744503  12.5661  14.5386  15.30468 -28.658501  43.5123  Abnormal   \n",
       "1  0.415186  12.8874  17.5323  16.78486 -25.530607  16.1102  Abnormal   \n",
       "2  0.474889  26.8343  17.4861  16.65897 -29.031888  19.2221  Abnormal   \n",
       "3  0.369345  23.5603  12.7074  11.42447 -30.470246  18.8329  Abnormal   \n",
       "4  0.543360  35.4940  15.9546   8.87237 -16.378376  24.9171  Abnormal   \n",
       "\n",
       "                                         Unnamed: 13  \n",
       "0                                                NaN  \n",
       "1                                                NaN  \n",
       "2  Prediction is done by using binary classificat...  \n",
       "3                                                NaN  \n",
       "4                                                NaN  "
      ]
     },
     "execution_count": 131,
     "metadata": {},
     "output_type": "execute_result"
    }
   ],
   "source": [
    "spine_data.head()"
   ]
  },
  {
   "cell_type": "code",
   "execution_count": 132,
   "metadata": {},
   "outputs": [
    {
     "data": {
      "text/html": [
       "<div>\n",
       "<style scoped>\n",
       "    .dataframe tbody tr th:only-of-type {\n",
       "        vertical-align: middle;\n",
       "    }\n",
       "\n",
       "    .dataframe tbody tr th {\n",
       "        vertical-align: top;\n",
       "    }\n",
       "\n",
       "    .dataframe thead th {\n",
       "        text-align: right;\n",
       "    }\n",
       "</style>\n",
       "<table border=\"1\" class=\"dataframe\">\n",
       "  <thead>\n",
       "    <tr style=\"text-align: right;\">\n",
       "      <th></th>\n",
       "      <th>Unnamed: 13</th>\n",
       "    </tr>\n",
       "  </thead>\n",
       "  <tbody>\n",
       "    <tr>\n",
       "      <th>0</th>\n",
       "      <td>NaN</td>\n",
       "    </tr>\n",
       "    <tr>\n",
       "      <th>1</th>\n",
       "      <td>NaN</td>\n",
       "    </tr>\n",
       "    <tr>\n",
       "      <th>2</th>\n",
       "      <td>Prediction is done by using binary classificat...</td>\n",
       "    </tr>\n",
       "    <tr>\n",
       "      <th>3</th>\n",
       "      <td>NaN</td>\n",
       "    </tr>\n",
       "    <tr>\n",
       "      <th>4</th>\n",
       "      <td>NaN</td>\n",
       "    </tr>\n",
       "  </tbody>\n",
       "</table>\n",
       "</div>"
      ],
      "text/plain": [
       "                                         Unnamed: 13\n",
       "0                                                NaN\n",
       "1                                                NaN\n",
       "2  Prediction is done by using binary classificat...\n",
       "3                                                NaN\n",
       "4                                                NaN"
      ]
     },
     "execution_count": 132,
     "metadata": {},
     "output_type": "execute_result"
    }
   ],
   "source": [
    "spine_data.iloc[:,-1:].head()"
   ]
  },
  {
   "cell_type": "code",
   "execution_count": 133,
   "metadata": {},
   "outputs": [],
   "source": [
    "# removing Unnecessary column\n",
    "del spine_data[\"Unnamed: 13\"]"
   ]
  },
  {
   "cell_type": "code",
   "execution_count": 134,
   "metadata": {},
   "outputs": [],
   "source": [
    "spine_data.rename(columns = {\n",
    "    \"Col1\" : \"pelvic_incidence\", \n",
    "    \"Col2\" : \"pelvic_tilt\",\n",
    "    \"Col3\" : \"lumbar_lordosis_angle\",\n",
    "    \"Col4\" : \"sacral_slope\", \n",
    "    \"Col5\" : \"pelvic_radius\",\n",
    "    \"Col6\" : \"degree_spondylolisthesis\", \n",
    "    \"Col7\" : \"pelvic_slope\",\n",
    "    \"Col8\" : \"direct_tilt\",\n",
    "    \"Col9\" : \"thoracic_slope\", \n",
    "    \"Col10\" :\"cervical_tilt\", \n",
    "    \"Col11\" : \"sacrum_angle\",\n",
    "    \"Col12\" : \"scoliosis_slope\", \n",
    "    \"Class_att\" : \"class_att\"}, inplace=True)"
   ]
  },
  {
   "cell_type": "code",
   "execution_count": 135,
   "metadata": {},
   "outputs": [
    {
     "data": {
      "text/html": [
       "<div>\n",
       "<style scoped>\n",
       "    .dataframe tbody tr th:only-of-type {\n",
       "        vertical-align: middle;\n",
       "    }\n",
       "\n",
       "    .dataframe tbody tr th {\n",
       "        vertical-align: top;\n",
       "    }\n",
       "\n",
       "    .dataframe thead th {\n",
       "        text-align: right;\n",
       "    }\n",
       "</style>\n",
       "<table border=\"1\" class=\"dataframe\">\n",
       "  <thead>\n",
       "    <tr style=\"text-align: right;\">\n",
       "      <th></th>\n",
       "      <th>pelvic_incidence</th>\n",
       "      <th>pelvic_tilt</th>\n",
       "      <th>lumbar_lordosis_angle</th>\n",
       "      <th>sacral_slope</th>\n",
       "      <th>pelvic_radius</th>\n",
       "      <th>degree_spondylolisthesis</th>\n",
       "      <th>pelvic_slope</th>\n",
       "      <th>direct_tilt</th>\n",
       "      <th>thoracic_slope</th>\n",
       "      <th>cervical_tilt</th>\n",
       "      <th>sacrum_angle</th>\n",
       "      <th>scoliosis_slope</th>\n",
       "      <th>class_att</th>\n",
       "    </tr>\n",
       "  </thead>\n",
       "  <tbody>\n",
       "    <tr>\n",
       "      <th>0</th>\n",
       "      <td>63.027818</td>\n",
       "      <td>22.552586</td>\n",
       "      <td>39.609117</td>\n",
       "      <td>40.475232</td>\n",
       "      <td>98.672917</td>\n",
       "      <td>-0.254400</td>\n",
       "      <td>0.744503</td>\n",
       "      <td>12.5661</td>\n",
       "      <td>14.5386</td>\n",
       "      <td>15.30468</td>\n",
       "      <td>-28.658501</td>\n",
       "      <td>43.5123</td>\n",
       "      <td>Abnormal</td>\n",
       "    </tr>\n",
       "    <tr>\n",
       "      <th>1</th>\n",
       "      <td>39.056951</td>\n",
       "      <td>10.060991</td>\n",
       "      <td>25.015378</td>\n",
       "      <td>28.995960</td>\n",
       "      <td>114.405425</td>\n",
       "      <td>4.564259</td>\n",
       "      <td>0.415186</td>\n",
       "      <td>12.8874</td>\n",
       "      <td>17.5323</td>\n",
       "      <td>16.78486</td>\n",
       "      <td>-25.530607</td>\n",
       "      <td>16.1102</td>\n",
       "      <td>Abnormal</td>\n",
       "    </tr>\n",
       "    <tr>\n",
       "      <th>2</th>\n",
       "      <td>68.832021</td>\n",
       "      <td>22.218482</td>\n",
       "      <td>50.092194</td>\n",
       "      <td>46.613539</td>\n",
       "      <td>105.985135</td>\n",
       "      <td>-3.530317</td>\n",
       "      <td>0.474889</td>\n",
       "      <td>26.8343</td>\n",
       "      <td>17.4861</td>\n",
       "      <td>16.65897</td>\n",
       "      <td>-29.031888</td>\n",
       "      <td>19.2221</td>\n",
       "      <td>Abnormal</td>\n",
       "    </tr>\n",
       "    <tr>\n",
       "      <th>3</th>\n",
       "      <td>69.297008</td>\n",
       "      <td>24.652878</td>\n",
       "      <td>44.311238</td>\n",
       "      <td>44.644130</td>\n",
       "      <td>101.868495</td>\n",
       "      <td>11.211523</td>\n",
       "      <td>0.369345</td>\n",
       "      <td>23.5603</td>\n",
       "      <td>12.7074</td>\n",
       "      <td>11.42447</td>\n",
       "      <td>-30.470246</td>\n",
       "      <td>18.8329</td>\n",
       "      <td>Abnormal</td>\n",
       "    </tr>\n",
       "    <tr>\n",
       "      <th>4</th>\n",
       "      <td>49.712859</td>\n",
       "      <td>9.652075</td>\n",
       "      <td>28.317406</td>\n",
       "      <td>40.060784</td>\n",
       "      <td>108.168725</td>\n",
       "      <td>7.918501</td>\n",
       "      <td>0.543360</td>\n",
       "      <td>35.4940</td>\n",
       "      <td>15.9546</td>\n",
       "      <td>8.87237</td>\n",
       "      <td>-16.378376</td>\n",
       "      <td>24.9171</td>\n",
       "      <td>Abnormal</td>\n",
       "    </tr>\n",
       "  </tbody>\n",
       "</table>\n",
       "</div>"
      ],
      "text/plain": [
       "   pelvic_incidence  pelvic_tilt  lumbar_lordosis_angle  sacral_slope  \\\n",
       "0         63.027818    22.552586              39.609117     40.475232   \n",
       "1         39.056951    10.060991              25.015378     28.995960   \n",
       "2         68.832021    22.218482              50.092194     46.613539   \n",
       "3         69.297008    24.652878              44.311238     44.644130   \n",
       "4         49.712859     9.652075              28.317406     40.060784   \n",
       "\n",
       "   pelvic_radius  degree_spondylolisthesis  pelvic_slope  direct_tilt  \\\n",
       "0      98.672917                 -0.254400      0.744503      12.5661   \n",
       "1     114.405425                  4.564259      0.415186      12.8874   \n",
       "2     105.985135                 -3.530317      0.474889      26.8343   \n",
       "3     101.868495                 11.211523      0.369345      23.5603   \n",
       "4     108.168725                  7.918501      0.543360      35.4940   \n",
       "\n",
       "   thoracic_slope  cervical_tilt  sacrum_angle  scoliosis_slope class_att  \n",
       "0         14.5386       15.30468    -28.658501          43.5123  Abnormal  \n",
       "1         17.5323       16.78486    -25.530607          16.1102  Abnormal  \n",
       "2         17.4861       16.65897    -29.031888          19.2221  Abnormal  \n",
       "3         12.7074       11.42447    -30.470246          18.8329  Abnormal  \n",
       "4         15.9546        8.87237    -16.378376          24.9171  Abnormal  "
      ]
     },
     "execution_count": 135,
     "metadata": {},
     "output_type": "execute_result"
    }
   ],
   "source": [
    "spine_data.head()"
   ]
  },
  {
   "cell_type": "code",
   "execution_count": 136,
   "metadata": {},
   "outputs": [
    {
     "data": {
      "text/plain": [
       "(310, 13)"
      ]
     },
     "execution_count": 136,
     "metadata": {},
     "output_type": "execute_result"
    }
   ],
   "source": [
    "spine_data.shape"
   ]
  },
  {
   "cell_type": "code",
   "execution_count": 137,
   "metadata": {},
   "outputs": [
    {
     "data": {
      "text/html": [
       "<div>\n",
       "<style scoped>\n",
       "    .dataframe tbody tr th:only-of-type {\n",
       "        vertical-align: middle;\n",
       "    }\n",
       "\n",
       "    .dataframe tbody tr th {\n",
       "        vertical-align: top;\n",
       "    }\n",
       "\n",
       "    .dataframe thead th {\n",
       "        text-align: right;\n",
       "    }\n",
       "</style>\n",
       "<table border=\"1\" class=\"dataframe\">\n",
       "  <thead>\n",
       "    <tr style=\"text-align: right;\">\n",
       "      <th></th>\n",
       "      <th>0</th>\n",
       "      <th>1</th>\n",
       "      <th>2</th>\n",
       "      <th>3</th>\n",
       "      <th>4</th>\n",
       "    </tr>\n",
       "  </thead>\n",
       "  <tbody>\n",
       "    <tr>\n",
       "      <th>pelvic_incidence</th>\n",
       "      <td>63.0278</td>\n",
       "      <td>39.057</td>\n",
       "      <td>68.832</td>\n",
       "      <td>69.297</td>\n",
       "      <td>49.7129</td>\n",
       "    </tr>\n",
       "    <tr>\n",
       "      <th>pelvic_tilt</th>\n",
       "      <td>22.5526</td>\n",
       "      <td>10.061</td>\n",
       "      <td>22.2185</td>\n",
       "      <td>24.6529</td>\n",
       "      <td>9.65207</td>\n",
       "    </tr>\n",
       "    <tr>\n",
       "      <th>lumbar_lordosis_angle</th>\n",
       "      <td>39.6091</td>\n",
       "      <td>25.0154</td>\n",
       "      <td>50.0922</td>\n",
       "      <td>44.3112</td>\n",
       "      <td>28.3174</td>\n",
       "    </tr>\n",
       "    <tr>\n",
       "      <th>sacral_slope</th>\n",
       "      <td>40.4752</td>\n",
       "      <td>28.996</td>\n",
       "      <td>46.6135</td>\n",
       "      <td>44.6441</td>\n",
       "      <td>40.0608</td>\n",
       "    </tr>\n",
       "    <tr>\n",
       "      <th>pelvic_radius</th>\n",
       "      <td>98.6729</td>\n",
       "      <td>114.405</td>\n",
       "      <td>105.985</td>\n",
       "      <td>101.868</td>\n",
       "      <td>108.169</td>\n",
       "    </tr>\n",
       "    <tr>\n",
       "      <th>degree_spondylolisthesis</th>\n",
       "      <td>-0.2544</td>\n",
       "      <td>4.56426</td>\n",
       "      <td>-3.53032</td>\n",
       "      <td>11.2115</td>\n",
       "      <td>7.9185</td>\n",
       "    </tr>\n",
       "    <tr>\n",
       "      <th>pelvic_slope</th>\n",
       "      <td>0.744503</td>\n",
       "      <td>0.415186</td>\n",
       "      <td>0.474889</td>\n",
       "      <td>0.369345</td>\n",
       "      <td>0.54336</td>\n",
       "    </tr>\n",
       "    <tr>\n",
       "      <th>direct_tilt</th>\n",
       "      <td>12.5661</td>\n",
       "      <td>12.8874</td>\n",
       "      <td>26.8343</td>\n",
       "      <td>23.5603</td>\n",
       "      <td>35.494</td>\n",
       "    </tr>\n",
       "    <tr>\n",
       "      <th>thoracic_slope</th>\n",
       "      <td>14.5386</td>\n",
       "      <td>17.5323</td>\n",
       "      <td>17.4861</td>\n",
       "      <td>12.7074</td>\n",
       "      <td>15.9546</td>\n",
       "    </tr>\n",
       "    <tr>\n",
       "      <th>cervical_tilt</th>\n",
       "      <td>15.3047</td>\n",
       "      <td>16.7849</td>\n",
       "      <td>16.659</td>\n",
       "      <td>11.4245</td>\n",
       "      <td>8.87237</td>\n",
       "    </tr>\n",
       "    <tr>\n",
       "      <th>sacrum_angle</th>\n",
       "      <td>-28.6585</td>\n",
       "      <td>-25.5306</td>\n",
       "      <td>-29.0319</td>\n",
       "      <td>-30.4702</td>\n",
       "      <td>-16.3784</td>\n",
       "    </tr>\n",
       "    <tr>\n",
       "      <th>scoliosis_slope</th>\n",
       "      <td>43.5123</td>\n",
       "      <td>16.1102</td>\n",
       "      <td>19.2221</td>\n",
       "      <td>18.8329</td>\n",
       "      <td>24.9171</td>\n",
       "    </tr>\n",
       "    <tr>\n",
       "      <th>class_att</th>\n",
       "      <td>Abnormal</td>\n",
       "      <td>Abnormal</td>\n",
       "      <td>Abnormal</td>\n",
       "      <td>Abnormal</td>\n",
       "      <td>Abnormal</td>\n",
       "    </tr>\n",
       "  </tbody>\n",
       "</table>\n",
       "</div>"
      ],
      "text/plain": [
       "                                 0         1         2         3         4\n",
       "pelvic_incidence           63.0278    39.057    68.832    69.297   49.7129\n",
       "pelvic_tilt                22.5526    10.061   22.2185   24.6529   9.65207\n",
       "lumbar_lordosis_angle      39.6091   25.0154   50.0922   44.3112   28.3174\n",
       "sacral_slope               40.4752    28.996   46.6135   44.6441   40.0608\n",
       "pelvic_radius              98.6729   114.405   105.985   101.868   108.169\n",
       "degree_spondylolisthesis   -0.2544   4.56426  -3.53032   11.2115    7.9185\n",
       "pelvic_slope              0.744503  0.415186  0.474889  0.369345   0.54336\n",
       "direct_tilt                12.5661   12.8874   26.8343   23.5603    35.494\n",
       "thoracic_slope             14.5386   17.5323   17.4861   12.7074   15.9546\n",
       "cervical_tilt              15.3047   16.7849    16.659   11.4245   8.87237\n",
       "sacrum_angle              -28.6585  -25.5306  -29.0319  -30.4702  -16.3784\n",
       "scoliosis_slope            43.5123   16.1102   19.2221   18.8329   24.9171\n",
       "class_att                 Abnormal  Abnormal  Abnormal  Abnormal  Abnormal"
      ]
     },
     "execution_count": 137,
     "metadata": {},
     "output_type": "execute_result"
    }
   ],
   "source": [
    "spine_data.head().T"
   ]
  },
  {
   "cell_type": "code",
   "execution_count": 138,
   "metadata": {},
   "outputs": [
    {
     "data": {
      "text/plain": [
       "Index(['pelvic_incidence', 'pelvic_tilt', 'lumbar_lordosis_angle',\n",
       "       'sacral_slope', 'pelvic_radius', 'degree_spondylolisthesis',\n",
       "       'pelvic_slope', 'direct_tilt', 'thoracic_slope', 'cervical_tilt',\n",
       "       'sacrum_angle', 'scoliosis_slope', 'class_att'],\n",
       "      dtype='object')"
      ]
     },
     "execution_count": 138,
     "metadata": {},
     "output_type": "execute_result"
    }
   ],
   "source": [
    "spine_data.columns"
   ]
  },
  {
   "cell_type": "code",
   "execution_count": 139,
   "metadata": {},
   "outputs": [
    {
     "data": {
      "text/plain": [
       "array(['Abnormal', 'Normal'], dtype=object)"
      ]
     },
     "execution_count": 139,
     "metadata": {},
     "output_type": "execute_result"
    }
   ],
   "source": [
    "spine_data['class_att'].unique()"
   ]
  },
  {
   "cell_type": "code",
   "execution_count": 140,
   "metadata": {},
   "outputs": [
    {
     "data": {
      "text/html": [
       "<div>\n",
       "<style scoped>\n",
       "    .dataframe tbody tr th:only-of-type {\n",
       "        vertical-align: middle;\n",
       "    }\n",
       "\n",
       "    .dataframe tbody tr th {\n",
       "        vertical-align: top;\n",
       "    }\n",
       "\n",
       "    .dataframe thead th {\n",
       "        text-align: right;\n",
       "    }\n",
       "</style>\n",
       "<table border=\"1\" class=\"dataframe\">\n",
       "  <thead>\n",
       "    <tr style=\"text-align: right;\">\n",
       "      <th></th>\n",
       "      <th>count</th>\n",
       "      <th>mean</th>\n",
       "      <th>std</th>\n",
       "      <th>min</th>\n",
       "      <th>25%</th>\n",
       "      <th>50%</th>\n",
       "      <th>75%</th>\n",
       "      <th>max</th>\n",
       "    </tr>\n",
       "  </thead>\n",
       "  <tbody>\n",
       "    <tr>\n",
       "      <th>pelvic_incidence</th>\n",
       "      <td>310.0</td>\n",
       "      <td>60.496653</td>\n",
       "      <td>17.236520</td>\n",
       "      <td>26.147921</td>\n",
       "      <td>46.430294</td>\n",
       "      <td>58.691038</td>\n",
       "      <td>72.877696</td>\n",
       "      <td>129.834041</td>\n",
       "    </tr>\n",
       "    <tr>\n",
       "      <th>pelvic_tilt</th>\n",
       "      <td>310.0</td>\n",
       "      <td>17.542822</td>\n",
       "      <td>10.008330</td>\n",
       "      <td>-6.554948</td>\n",
       "      <td>10.667069</td>\n",
       "      <td>16.357689</td>\n",
       "      <td>22.120395</td>\n",
       "      <td>49.431864</td>\n",
       "    </tr>\n",
       "    <tr>\n",
       "      <th>lumbar_lordosis_angle</th>\n",
       "      <td>310.0</td>\n",
       "      <td>51.930930</td>\n",
       "      <td>18.554064</td>\n",
       "      <td>14.000000</td>\n",
       "      <td>37.000000</td>\n",
       "      <td>49.562398</td>\n",
       "      <td>63.000000</td>\n",
       "      <td>125.742385</td>\n",
       "    </tr>\n",
       "    <tr>\n",
       "      <th>sacral_slope</th>\n",
       "      <td>310.0</td>\n",
       "      <td>42.953831</td>\n",
       "      <td>13.423102</td>\n",
       "      <td>13.366931</td>\n",
       "      <td>33.347122</td>\n",
       "      <td>42.404912</td>\n",
       "      <td>52.695888</td>\n",
       "      <td>121.429566</td>\n",
       "    </tr>\n",
       "    <tr>\n",
       "      <th>pelvic_radius</th>\n",
       "      <td>310.0</td>\n",
       "      <td>117.920655</td>\n",
       "      <td>13.317377</td>\n",
       "      <td>70.082575</td>\n",
       "      <td>110.709196</td>\n",
       "      <td>118.268178</td>\n",
       "      <td>125.467674</td>\n",
       "      <td>163.071041</td>\n",
       "    </tr>\n",
       "    <tr>\n",
       "      <th>degree_spondylolisthesis</th>\n",
       "      <td>310.0</td>\n",
       "      <td>26.296694</td>\n",
       "      <td>37.559027</td>\n",
       "      <td>-11.058179</td>\n",
       "      <td>1.603727</td>\n",
       "      <td>11.767934</td>\n",
       "      <td>41.287352</td>\n",
       "      <td>418.543082</td>\n",
       "    </tr>\n",
       "    <tr>\n",
       "      <th>pelvic_slope</th>\n",
       "      <td>310.0</td>\n",
       "      <td>0.472979</td>\n",
       "      <td>0.285787</td>\n",
       "      <td>0.003220</td>\n",
       "      <td>0.224367</td>\n",
       "      <td>0.475989</td>\n",
       "      <td>0.704846</td>\n",
       "      <td>0.998827</td>\n",
       "    </tr>\n",
       "    <tr>\n",
       "      <th>direct_tilt</th>\n",
       "      <td>310.0</td>\n",
       "      <td>21.321526</td>\n",
       "      <td>8.639423</td>\n",
       "      <td>7.027000</td>\n",
       "      <td>13.054400</td>\n",
       "      <td>21.907150</td>\n",
       "      <td>28.954075</td>\n",
       "      <td>36.743900</td>\n",
       "    </tr>\n",
       "    <tr>\n",
       "      <th>thoracic_slope</th>\n",
       "      <td>310.0</td>\n",
       "      <td>13.064511</td>\n",
       "      <td>3.399713</td>\n",
       "      <td>7.037800</td>\n",
       "      <td>10.417800</td>\n",
       "      <td>12.938450</td>\n",
       "      <td>15.889525</td>\n",
       "      <td>19.324000</td>\n",
       "    </tr>\n",
       "    <tr>\n",
       "      <th>cervical_tilt</th>\n",
       "      <td>310.0</td>\n",
       "      <td>11.933317</td>\n",
       "      <td>2.893265</td>\n",
       "      <td>7.030600</td>\n",
       "      <td>9.541140</td>\n",
       "      <td>11.953835</td>\n",
       "      <td>14.371810</td>\n",
       "      <td>16.821080</td>\n",
       "    </tr>\n",
       "    <tr>\n",
       "      <th>sacrum_angle</th>\n",
       "      <td>310.0</td>\n",
       "      <td>-14.053139</td>\n",
       "      <td>12.225582</td>\n",
       "      <td>-35.287375</td>\n",
       "      <td>-24.289522</td>\n",
       "      <td>-14.622856</td>\n",
       "      <td>-3.497094</td>\n",
       "      <td>6.972071</td>\n",
       "    </tr>\n",
       "    <tr>\n",
       "      <th>scoliosis_slope</th>\n",
       "      <td>310.0</td>\n",
       "      <td>25.645981</td>\n",
       "      <td>10.450558</td>\n",
       "      <td>7.007900</td>\n",
       "      <td>17.189075</td>\n",
       "      <td>24.931950</td>\n",
       "      <td>33.979600</td>\n",
       "      <td>44.341200</td>\n",
       "    </tr>\n",
       "  </tbody>\n",
       "</table>\n",
       "</div>"
      ],
      "text/plain": [
       "                          count        mean        std        min         25%  \\\n",
       "pelvic_incidence          310.0   60.496653  17.236520  26.147921   46.430294   \n",
       "pelvic_tilt               310.0   17.542822  10.008330  -6.554948   10.667069   \n",
       "lumbar_lordosis_angle     310.0   51.930930  18.554064  14.000000   37.000000   \n",
       "sacral_slope              310.0   42.953831  13.423102  13.366931   33.347122   \n",
       "pelvic_radius             310.0  117.920655  13.317377  70.082575  110.709196   \n",
       "degree_spondylolisthesis  310.0   26.296694  37.559027 -11.058179    1.603727   \n",
       "pelvic_slope              310.0    0.472979   0.285787   0.003220    0.224367   \n",
       "direct_tilt               310.0   21.321526   8.639423   7.027000   13.054400   \n",
       "thoracic_slope            310.0   13.064511   3.399713   7.037800   10.417800   \n",
       "cervical_tilt             310.0   11.933317   2.893265   7.030600    9.541140   \n",
       "sacrum_angle              310.0  -14.053139  12.225582 -35.287375  -24.289522   \n",
       "scoliosis_slope           310.0   25.645981  10.450558   7.007900   17.189075   \n",
       "\n",
       "                                 50%         75%         max  \n",
       "pelvic_incidence           58.691038   72.877696  129.834041  \n",
       "pelvic_tilt                16.357689   22.120395   49.431864  \n",
       "lumbar_lordosis_angle      49.562398   63.000000  125.742385  \n",
       "sacral_slope               42.404912   52.695888  121.429566  \n",
       "pelvic_radius             118.268178  125.467674  163.071041  \n",
       "degree_spondylolisthesis   11.767934   41.287352  418.543082  \n",
       "pelvic_slope                0.475989    0.704846    0.998827  \n",
       "direct_tilt                21.907150   28.954075   36.743900  \n",
       "thoracic_slope             12.938450   15.889525   19.324000  \n",
       "cervical_tilt              11.953835   14.371810   16.821080  \n",
       "sacrum_angle              -14.622856   -3.497094    6.972071  \n",
       "scoliosis_slope            24.931950   33.979600   44.341200  "
      ]
     },
     "execution_count": 140,
     "metadata": {},
     "output_type": "execute_result"
    }
   ],
   "source": [
    "spine_data.describe().transpose()"
   ]
  },
  {
   "cell_type": "code",
   "execution_count": 141,
   "metadata": {},
   "outputs": [
    {
     "data": {
      "image/png": "[encoded data removed]",
      "text/plain": [
       "<Figure size 576x432 with 1 Axes>"
      ]
     },
     "metadata": {
      "needs_background": "light"
     },
     "output_type": "display_data"
    }
   ],
   "source": [
    "plt.figure(figsize = (8,6))\n",
    "\n",
    "sns.countplot('class_att', data = spine_data)\n",
    "\n",
    "plt.xlabel(\"Class_att\", fontsize = 20)\n",
    "plt.ylabel('Count', fontsize = 20)\n",
    "\n",
    "plt.show()"
   ]
  },
  {
   "cell_type": "code",
   "execution_count": 142,
   "metadata": {},
   "outputs": [
    {
     "data": {
      "image/png": "[encoded data removed]",
      "text/plain": [
       "<Figure size 576x432 with 1 Axes>"
      ]
     },
     "metadata": {
      "needs_background": "light"
     },
     "output_type": "display_data"
    }
   ],
   "source": [
    "plt.figure(figsize = (8,6))\n",
    "\n",
    "sns.boxplot('class_att', 'pelvic_radius', data = spine_data)\n",
    "\n",
    "plt.xlabel(\"Class_att\", fontsize = 20)\n",
    "plt.ylabel('Pelvic_Radius', fontsize = 20)\n",
    "\n",
    "plt.show()"
   ]
  },
  {
   "cell_type": "code",
   "execution_count": 143,
   "metadata": {},
   "outputs": [
    {
     "data": {
      "text/html": [
       "<div>\n",
       "<style scoped>\n",
       "    .dataframe tbody tr th:only-of-type {\n",
       "        vertical-align: middle;\n",
       "    }\n",
       "\n",
       "    .dataframe tbody tr th {\n",
       "        vertical-align: top;\n",
       "    }\n",
       "\n",
       "    .dataframe thead th {\n",
       "        text-align: right;\n",
       "    }\n",
       "</style>\n",
       "<table border=\"1\" class=\"dataframe\">\n",
       "  <thead>\n",
       "    <tr style=\"text-align: right;\">\n",
       "      <th></th>\n",
       "      <th>class_att</th>\n",
       "    </tr>\n",
       "  </thead>\n",
       "  <tbody>\n",
       "    <tr>\n",
       "      <th>52</th>\n",
       "      <td>0</td>\n",
       "    </tr>\n",
       "    <tr>\n",
       "      <th>273</th>\n",
       "      <td>1</td>\n",
       "    </tr>\n",
       "    <tr>\n",
       "      <th>246</th>\n",
       "      <td>1</td>\n",
       "    </tr>\n",
       "    <tr>\n",
       "      <th>68</th>\n",
       "      <td>0</td>\n",
       "    </tr>\n",
       "    <tr>\n",
       "      <th>143</th>\n",
       "      <td>0</td>\n",
       "    </tr>\n",
       "    <tr>\n",
       "      <th>111</th>\n",
       "      <td>0</td>\n",
       "    </tr>\n",
       "    <tr>\n",
       "      <th>257</th>\n",
       "      <td>1</td>\n",
       "    </tr>\n",
       "    <tr>\n",
       "      <th>122</th>\n",
       "      <td>0</td>\n",
       "    </tr>\n",
       "    <tr>\n",
       "      <th>172</th>\n",
       "      <td>0</td>\n",
       "    </tr>\n",
       "    <tr>\n",
       "      <th>244</th>\n",
       "      <td>1</td>\n",
       "    </tr>\n",
       "  </tbody>\n",
       "</table>\n",
       "</div>"
      ],
      "text/plain": [
       "     class_att\n",
       "52           0\n",
       "273          1\n",
       "246          1\n",
       "68           0\n",
       "143          0\n",
       "111          0\n",
       "257          1\n",
       "122          0\n",
       "172          0\n",
       "244          1"
      ]
     },
     "execution_count": 143,
     "metadata": {},
     "output_type": "execute_result"
    }
   ],
   "source": [
    "class_att = {'Abnormal':0, 'Normal':1}\n",
    "\n",
    "spine_data['class_att'].replace(class_att, inplace = True)\n",
    "\n",
    "spine_data[['class_att']].sample(10)"
   ]
  },
  {
   "cell_type": "code",
   "execution_count": 144,
   "metadata": {},
   "outputs": [],
   "source": [
    "features = spine_data.drop('class_att', axis = 1)\n",
    "target = spine_data[['class_att']]"
   ]
  },
  {
   "cell_type": "code",
   "execution_count": 145,
   "metadata": {},
   "outputs": [
    {
     "data": {
      "text/html": [
       "<div>\n",
       "<style scoped>\n",
       "    .dataframe tbody tr th:only-of-type {\n",
       "        vertical-align: middle;\n",
       "    }\n",
       "\n",
       "    .dataframe tbody tr th {\n",
       "        vertical-align: top;\n",
       "    }\n",
       "\n",
       "    .dataframe thead th {\n",
       "        text-align: right;\n",
       "    }\n",
       "</style>\n",
       "<table border=\"1\" class=\"dataframe\">\n",
       "  <thead>\n",
       "    <tr style=\"text-align: right;\">\n",
       "      <th></th>\n",
       "      <th>count</th>\n",
       "      <th>mean</th>\n",
       "      <th>std</th>\n",
       "      <th>min</th>\n",
       "      <th>25%</th>\n",
       "      <th>50%</th>\n",
       "      <th>75%</th>\n",
       "      <th>max</th>\n",
       "    </tr>\n",
       "  </thead>\n",
       "  <tbody>\n",
       "    <tr>\n",
       "      <th>pelvic_incidence</th>\n",
       "      <td>310.0</td>\n",
       "      <td>-2.141656e-16</td>\n",
       "      <td>1.001617</td>\n",
       "      <td>-1.996010</td>\n",
       "      <td>-0.817398</td>\n",
       "      <td>-0.104925</td>\n",
       "      <td>0.719464</td>\n",
       "      <td>4.029206</td>\n",
       "    </tr>\n",
       "    <tr>\n",
       "      <th>pelvic_tilt</th>\n",
       "      <td>310.0</td>\n",
       "      <td>1.568638e-16</td>\n",
       "      <td>1.001617</td>\n",
       "      <td>-2.411664</td>\n",
       "      <td>-0.688114</td>\n",
       "      <td>-0.118606</td>\n",
       "      <td>0.458116</td>\n",
       "      <td>3.191402</td>\n",
       "    </tr>\n",
       "    <tr>\n",
       "      <th>lumbar_lordosis_angle</th>\n",
       "      <td>310.0</td>\n",
       "      <td>3.527644e-16</td>\n",
       "      <td>1.001617</td>\n",
       "      <td>-2.047652</td>\n",
       "      <td>-0.806027</td>\n",
       "      <td>-0.127862</td>\n",
       "      <td>0.597549</td>\n",
       "      <td>3.984615</td>\n",
       "    </tr>\n",
       "    <tr>\n",
       "      <th>sacral_slope</th>\n",
       "      <td>310.0</td>\n",
       "      <td>-1.719055e-16</td>\n",
       "      <td>1.001617</td>\n",
       "      <td>-2.207741</td>\n",
       "      <td>-0.716842</td>\n",
       "      <td>-0.040960</td>\n",
       "      <td>0.726941</td>\n",
       "      <td>5.855771</td>\n",
       "    </tr>\n",
       "    <tr>\n",
       "      <th>pelvic_radius</th>\n",
       "      <td>310.0</td>\n",
       "      <td>4.548333e-16</td>\n",
       "      <td>1.001617</td>\n",
       "      <td>-3.597963</td>\n",
       "      <td>-0.542383</td>\n",
       "      <td>0.026138</td>\n",
       "      <td>0.567621</td>\n",
       "      <td>3.395818</td>\n",
       "    </tr>\n",
       "    <tr>\n",
       "      <th>degree_spondylolisthesis</th>\n",
       "      <td>310.0</td>\n",
       "      <td>9.060852e-17</td>\n",
       "      <td>1.001617</td>\n",
       "      <td>-0.996172</td>\n",
       "      <td>-0.658507</td>\n",
       "      <td>-0.387450</td>\n",
       "      <td>0.399768</td>\n",
       "      <td>10.460350</td>\n",
       "    </tr>\n",
       "    <tr>\n",
       "      <th>pelvic_slope</th>\n",
       "      <td>310.0</td>\n",
       "      <td>1.074409e-17</td>\n",
       "      <td>1.001617</td>\n",
       "      <td>-1.646397</td>\n",
       "      <td>-0.871329</td>\n",
       "      <td>0.010547</td>\n",
       "      <td>0.812640</td>\n",
       "      <td>1.842974</td>\n",
       "    </tr>\n",
       "    <tr>\n",
       "      <th>direct_tilt</th>\n",
       "      <td>310.0</td>\n",
       "      <td>6.437503e-17</td>\n",
       "      <td>1.001617</td>\n",
       "      <td>-1.657245</td>\n",
       "      <td>-0.958454</td>\n",
       "      <td>0.067895</td>\n",
       "      <td>0.884884</td>\n",
       "      <td>1.788002</td>\n",
       "    </tr>\n",
       "    <tr>\n",
       "      <th>thoracic_slope</th>\n",
       "      <td>310.0</td>\n",
       "      <td>2.442491e-16</td>\n",
       "      <td>1.001617</td>\n",
       "      <td>-1.775578</td>\n",
       "      <td>-0.779769</td>\n",
       "      <td>-0.037140</td>\n",
       "      <td>0.832300</td>\n",
       "      <td>1.844158</td>\n",
       "    </tr>\n",
       "    <tr>\n",
       "      <th>cervical_tilt</th>\n",
       "      <td>310.0</td>\n",
       "      <td>-3.875036e-16</td>\n",
       "      <td>1.001617</td>\n",
       "      <td>-1.697267</td>\n",
       "      <td>-0.828145</td>\n",
       "      <td>0.007103</td>\n",
       "      <td>0.844180</td>\n",
       "      <td>1.692090</td>\n",
       "    </tr>\n",
       "    <tr>\n",
       "      <th>sacrum_angle</th>\n",
       "      <td>310.0</td>\n",
       "      <td>-7.664120e-17</td>\n",
       "      <td>1.001617</td>\n",
       "      <td>-1.739677</td>\n",
       "      <td>-0.838646</td>\n",
       "      <td>-0.046676</td>\n",
       "      <td>0.864835</td>\n",
       "      <td>1.722552</td>\n",
       "    </tr>\n",
       "    <tr>\n",
       "      <th>scoliosis_slope</th>\n",
       "      <td>310.0</td>\n",
       "      <td>-1.231989e-16</td>\n",
       "      <td>1.001617</td>\n",
       "      <td>-1.786337</td>\n",
       "      <td>-0.810538</td>\n",
       "      <td>-0.068435</td>\n",
       "      <td>0.798722</td>\n",
       "      <td>1.791813</td>\n",
       "    </tr>\n",
       "  </tbody>\n",
       "</table>\n",
       "</div>"
      ],
      "text/plain": [
       "                          count          mean       std       min       25%  \\\n",
       "pelvic_incidence          310.0 -2.141656e-16  1.001617 -1.996010 -0.817398   \n",
       "pelvic_tilt               310.0  1.568638e-16  1.001617 -2.411664 -0.688114   \n",
       "lumbar_lordosis_angle     310.0  3.527644e-16  1.001617 -2.047652 -0.806027   \n",
       "sacral_slope              310.0 -1.719055e-16  1.001617 -2.207741 -0.716842   \n",
       "pelvic_radius             310.0  4.548333e-16  1.001617 -3.597963 -0.542383   \n",
       "degree_spondylolisthesis  310.0  9.060852e-17  1.001617 -0.996172 -0.658507   \n",
       "pelvic_slope              310.0  1.074409e-17  1.001617 -1.646397 -0.871329   \n",
       "direct_tilt               310.0  6.437503e-17  1.001617 -1.657245 -0.958454   \n",
       "thoracic_slope            310.0  2.442491e-16  1.001617 -1.775578 -0.779769   \n",
       "cervical_tilt             310.0 -3.875036e-16  1.001617 -1.697267 -0.828145   \n",
       "sacrum_angle              310.0 -7.664120e-17  1.001617 -1.739677 -0.838646   \n",
       "scoliosis_slope           310.0 -1.231989e-16  1.001617 -1.786337 -0.810538   \n",
       "\n",
       "                               50%       75%        max  \n",
       "pelvic_incidence         -0.104925  0.719464   4.029206  \n",
       "pelvic_tilt              -0.118606  0.458116   3.191402  \n",
       "lumbar_lordosis_angle    -0.127862  0.597549   3.984615  \n",
       "sacral_slope             -0.040960  0.726941   5.855771  \n",
       "pelvic_radius             0.026138  0.567621   3.395818  \n",
       "degree_spondylolisthesis -0.387450  0.399768  10.460350  \n",
       "pelvic_slope              0.010547  0.812640   1.842974  \n",
       "direct_tilt               0.067895  0.884884   1.788002  \n",
       "thoracic_slope           -0.037140  0.832300   1.844158  \n",
       "cervical_tilt             0.007103  0.844180   1.692090  \n",
       "sacrum_angle             -0.046676  0.864835   1.722552  \n",
       "scoliosis_slope          -0.068435  0.798722   1.791813  "
      ]
     },
     "execution_count": 145,
     "metadata": {},
     "output_type": "execute_result"
    }
   ],
   "source": [
    "sc = StandardScaler()\n",
    "\n",
    "scaled_features = pd.DataFrame(sc.fit_transform(features), columns = features.columns, index = features.index)\n",
    "\n",
    "scaled_features.describe().T"
   ]
  },
  {
   "cell_type": "code",
   "execution_count": 146,
   "metadata": {},
   "outputs": [
    {
     "data": {
      "text/plain": [
       "(310, 12)"
      ]
     },
     "execution_count": 146,
     "metadata": {},
     "output_type": "execute_result"
    }
   ],
   "source": [
    "scaled_features.shape"
   ]
  },
  {
   "cell_type": "code",
   "execution_count": 151,
   "metadata": {},
   "outputs": [],
   "source": [
    "from sklearn.model_selection import train_test_split\n",
    "\n",
    "x_train,x_test,y_train,y_test = train_test_split(scaled_features, target, test_size = 0.15, random_state = 10)"
   ]
  },
  {
   "cell_type": "code",
   "execution_count": 152,
   "metadata": {},
   "outputs": [
    {
     "data": {
      "text/plain": [
       "((263, 12), (47, 12))"
      ]
     },
     "execution_count": 152,
     "metadata": {},
     "output_type": "execute_result"
    }
   ],
   "source": [
    "x_train.shape, x_test.shape"
   ]
  },
  {
   "cell_type": "code",
   "execution_count": 153,
   "metadata": {},
   "outputs": [],
   "source": [
    "x_train,x_val,y_train,y_val = train_test_split(x_train, y_train, test_size = 0.15, random_state = 10)"
   ]
  },
  {
   "cell_type": "code",
   "execution_count": 154,
   "metadata": {},
   "outputs": [
    {
     "data": {
      "text/plain": [
       "((223, 12), (40, 12), (47, 12))"
      ]
     },
     "execution_count": 154,
     "metadata": {},
     "output_type": "execute_result"
    }
   ],
   "source": [
    "x_train.shape, x_val.shape, x_test.shape"
   ]
  },
  {
   "cell_type": "code",
   "execution_count": 155,
   "metadata": {},
   "outputs": [
    {
     "data": {
      "text/plain": [
       "((223, 1), (40, 1), (47, 1))"
      ]
     },
     "execution_count": 155,
     "metadata": {},
     "output_type": "execute_result"
    }
   ],
   "source": [
    "y_train.shape, y_val.shape, y_test.shape"
   ]
  },
  {
   "cell_type": "markdown",
   "metadata": {},
   "source": [
    "**keras Funtional API(Application Programing Interface)**: The keras Functional API is a way to create models that are more flexible than Sequential models - models can have non_linear topology, shared layers, multiple inputs and outputs"
   ]
  },
  {
   "cell_type": "code",
   "execution_count": 156,
   "metadata": {},
   "outputs": [],
   "source": [
    "def build_and_compile_model():\n",
    "    \n",
    "    inputs = tf.keras.Input(shape = (x_train.shape[1],))\n",
    "    \n",
    "    x = layers.Dense(16, activation = 'relu')(inputs)\n",
    "    \n",
    "    x = layers.Dropout(0.3)(x)\n",
    "    \n",
    "    x = layers.Dense(8, activation = 'relu')(x)\n",
    "    \n",
    "    predictions = layers.Dense(1, activation = 'sigmoid')(x)\n",
    "    \n",
    "    model = tf.keras.Model(inputs = inputs, outputs = predictions)\n",
    "    \n",
    "    model.summary()\n",
    "    \n",
    "    optimizer = tf.keras.optimizers.RMSprop(lr = 0.001)\n",
    "    \n",
    "    model.compile(optimizer = optimizer, loss = tf.keras.losses.BinaryCrossentropy(),\n",
    "                 metrics = ['accuracy', tf.keras.metrics.Precision(0.5),\n",
    "                           tf.keras.metrics.Recall(0.5),])\n",
    "    \n",
    "    return model"
   ]
  },
  {
   "cell_type": "markdown",
   "metadata": {},
   "source": [
    "* Every layer instance is a callable, accepts inputs and returns a tensor"
   ]
  },
  {
   "cell_type": "code",
   "execution_count": 157,
   "metadata": {},
   "outputs": [
    {
     "name": "stdout",
     "output_type": "stream",
     "text": [
      "Model: \"functional_1\"\n",
      "_________________________________________________________________\n",
      "Layer (type)                 Output Shape              Param #   \n",
      "=================================================================\n",
      "input_1 (InputLayer)         [(None, 12)]              0         \n",
      "_________________________________________________________________\n",
      "dense (Dense)                (None, 16)                208       \n",
      "_________________________________________________________________\n",
      "dropout (Dropout)            (None, 16)                0         \n",
      "_________________________________________________________________\n",
      "dense_1 (Dense)              (None, 8)                 136       \n",
      "_________________________________________________________________\n",
      "dense_2 (Dense)              (None, 1)                 9         \n",
      "=================================================================\n",
      "Total params: 353\n",
      "Trainable params: 353\n",
      "Non-trainable params: 0\n",
      "_________________________________________________________________\n"
     ]
    }
   ],
   "source": [
    "model = build_and_compile_model()"
   ]
  },
  {
   "cell_type": "code",
   "execution_count": 158,
   "metadata": {},
   "outputs": [],
   "source": [
    "# keras.utils.plot_model(model,'model_classificatin_shapes.png',show_shapes = True)"
   ]
  },
  {
   "cell_type": "code",
   "execution_count": 159,
   "metadata": {},
   "outputs": [
    {
     "data": {
      "text/plain": [
       "<ShuffleDataset shapes: ((None, 12), (None, 1)), types: (tf.float64, tf.int64)>"
      ]
     },
     "execution_count": 159,
     "metadata": {},
     "output_type": "execute_result"
    }
   ],
   "source": [
    "dataset_train = tf.data.Dataset.from_tensor_slices((x_train.values, y_train.values))\n",
    "\n",
    "dataset_train = dataset_train.batch(16)\n",
    "\n",
    "dataset_train.shuffle(128)"
   ]
  },
  {
   "cell_type": "markdown",
   "metadata": {},
   "source": [
    "**If your working with tensorflow using large scale datasets that's what you do in the real world you won't work with your data in the form of numpy arrays.**\n",
    "\n",
    "\n",
    "**Instead you will use tf.data.Dataset converting your model to datasets allows you to train your model in a distributed manner using multiple devices. we will create our training dataset from_tensor_slices that we have x_train,y_train.** \n",
    "\n",
    "\n",
    "**we want our training data to be fed in batches of 16(it can vary) records to our model and we will shuffle our training data using a buffer of size 128(it can vary)**"
   ]
  },
  {
   "cell_type": "code",
   "execution_count": 160,
   "metadata": {},
   "outputs": [],
   "source": [
    "num_epochs = 10"
   ]
  },
  {
   "cell_type": "code",
   "execution_count": 161,
   "metadata": {},
   "outputs": [
    {
     "name": "stdout",
     "output_type": "stream",
     "text": [
      "Epoch 1/10\n",
      "14/14 [==============================] - 0s 3ms/step - loss: 0.6821 - accuracy: 0.5381 - precision: 0.3523 - recall: 0.4026\n",
      "Epoch 2/10\n",
      "14/14 [==============================] - 0s 2ms/step - loss: 0.6540 - accuracy: 0.6188 - precision: 0.4487 - recall: 0.4545\n",
      "Epoch 3/10\n",
      "14/14 [==============================] - 0s 3ms/step - loss: 0.6165 - accuracy: 0.6637 - precision: 0.5139 - recall: 0.4805\n",
      "Epoch 4/10\n",
      "14/14 [==============================] - 0s 3ms/step - loss: 0.6219 - accuracy: 0.6368 - precision: 0.4667 - recall: 0.3636\n",
      "Epoch 5/10\n",
      "14/14 [==============================] - 0s 3ms/step - loss: 0.5830 - accuracy: 0.6816 - precision: 0.5429 - recall: 0.4935\n",
      "Epoch 6/10\n",
      "14/14 [==============================] - 0s 3ms/step - loss: 0.5888 - accuracy: 0.6682 - precision: 0.5246 - recall: 0.4156\n",
      "Epoch 7/10\n",
      "14/14 [==============================] - 0s 3ms/step - loss: 0.5702 - accuracy: 0.6816 - precision: 0.5500 - recall: 0.4286\n",
      "Epoch 8/10\n",
      "14/14 [==============================] - 0s 3ms/step - loss: 0.5648 - accuracy: 0.6861 - precision: 0.5614 - recall: 0.4156\n",
      "Epoch 9/10\n",
      "14/14 [==============================] - 0s 3ms/step - loss: 0.5617 - accuracy: 0.6502 - precision: 0.4912 - recall: 0.3636\n",
      "Epoch 10/10\n",
      "14/14 [==============================] - 0s 3ms/step - loss: 0.5503 - accuracy: 0.6771 - precision: 0.5439 - recall: 0.4026\n"
     ]
    },
    {
     "data": {
      "text/plain": [
       "<tensorflow.python.keras.callbacks.History at 0x19597665550>"
      ]
     },
     "execution_count": 161,
     "metadata": {},
     "output_type": "execute_result"
    }
   ],
   "source": [
    "model.fit(dataset_train, epochs = num_epochs)"
   ]
  },
  {
   "cell_type": "code",
   "execution_count": 162,
   "metadata": {},
   "outputs": [],
   "source": [
    "dataset_val = tf.data.Dataset.from_tensor_slices((x_val.values, y_val.values))\n",
    "\n",
    "dataset_val = dataset_val.batch(16)\n",
    "\n"
   ]
  },
  {
   "cell_type": "code",
   "execution_count": 163,
   "metadata": {},
   "outputs": [
    {
     "name": "stdout",
     "output_type": "stream",
     "text": [
      "Model: \"functional_3\"\n",
      "_________________________________________________________________\n",
      "Layer (type)                 Output Shape              Param #   \n",
      "=================================================================\n",
      "input_2 (InputLayer)         [(None, 12)]              0         \n",
      "_________________________________________________________________\n",
      "dense_3 (Dense)              (None, 16)                208       \n",
      "_________________________________________________________________\n",
      "dropout_1 (Dropout)          (None, 16)                0         \n",
      "_________________________________________________________________\n",
      "dense_4 (Dense)              (None, 8)                 136       \n",
      "_________________________________________________________________\n",
      "dense_5 (Dense)              (None, 1)                 9         \n",
      "=================================================================\n",
      "Total params: 353\n",
      "Trainable params: 353\n",
      "Non-trainable params: 0\n",
      "_________________________________________________________________\n",
      "Epoch 1/10\n",
      "14/14 [==============================] - 1s 58ms/step - loss: 0.8594 - accuracy: 0.3857 - precision_1: 0.3485 - recall_1: 0.8961 - val_loss: 0.8612 - val_accuracy: 0.2500 - val_precision_1: 0.2059 - val_recall_1: 0.7000\n",
      "Epoch 2/10\n",
      "14/14 [==============================] - 0s 5ms/step - loss: 0.7986 - accuracy: 0.4126 - precision_1: 0.3448 - recall_1: 0.7792 - val_loss: 0.8159 - val_accuracy: 0.2500 - val_precision_1: 0.1875 - val_recall_1: 0.6000\n",
      "Epoch 3/10\n",
      "14/14 [==============================] - 0s 5ms/step - loss: 0.7892 - accuracy: 0.3901 - precision_1: 0.3234 - recall_1: 0.7013 - val_loss: 0.7773 - val_accuracy: 0.3000 - val_precision_1: 0.2000 - val_recall_1: 0.6000\n",
      "Epoch 4/10\n",
      "14/14 [==============================] - 0s 5ms/step - loss: 0.7321 - accuracy: 0.4664 - precision_1: 0.3500 - recall_1: 0.6364 - val_loss: 0.7493 - val_accuracy: 0.4250 - val_precision_1: 0.2174 - val_recall_1: 0.5000\n",
      "Epoch 5/10\n",
      "14/14 [==============================] - 0s 5ms/step - loss: 0.7192 - accuracy: 0.5336 - precision_1: 0.3937 - recall_1: 0.6494 - val_loss: 0.7246 - val_accuracy: 0.4500 - val_precision_1: 0.1667 - val_recall_1: 0.3000\n",
      "Epoch 6/10\n",
      "14/14 [==============================] - 0s 4ms/step - loss: 0.7105 - accuracy: 0.5291 - precision_1: 0.3793 - recall_1: 0.5714 - val_loss: 0.7060 - val_accuracy: 0.5000 - val_precision_1: 0.1875 - val_recall_1: 0.3000\n",
      "Epoch 7/10\n",
      "14/14 [==============================] - 0s 4ms/step - loss: 0.6574 - accuracy: 0.6502 - precision_1: 0.4946 - recall_1: 0.5974 - val_loss: 0.6911 - val_accuracy: 0.5500 - val_precision_1: 0.2143 - val_recall_1: 0.3000\n",
      "Epoch 8/10\n",
      "14/14 [==============================] - 0s 5ms/step - loss: 0.6611 - accuracy: 0.6143 - precision_1: 0.4494 - recall_1: 0.5195 - val_loss: 0.6779 - val_accuracy: 0.6000 - val_precision_1: 0.2500 - val_recall_1: 0.3000\n",
      "Epoch 9/10\n",
      "14/14 [==============================] - 0s 5ms/step - loss: 0.6462 - accuracy: 0.6502 - precision_1: 0.4930 - recall_1: 0.4545 - val_loss: 0.6665 - val_accuracy: 0.6000 - val_precision_1: 0.2000 - val_recall_1: 0.2000\n",
      "Epoch 10/10\n",
      "14/14 [==============================] - 0s 4ms/step - loss: 0.6421 - accuracy: 0.6188 - precision_1: 0.4474 - recall_1: 0.4416 - val_loss: 0.6560 - val_accuracy: 0.6250 - val_precision_1: 0.2222 - val_recall_1: 0.2000\n"
     ]
    }
   ],
   "source": [
    "model = build_and_compile_model()\n",
    "\n",
    "training_history = model.fit(dataset_train, epochs = num_epochs, validation_data = dataset_val)"
   ]
  },
  {
   "cell_type": "code",
   "execution_count": 164,
   "metadata": {},
   "outputs": [
    {
     "data": {
      "text/plain": [
       "dict_keys(['loss', 'accuracy', 'precision_1', 'recall_1', 'val_loss', 'val_accuracy', 'val_precision_1', 'val_recall_1'])"
      ]
     },
     "execution_count": 164,
     "metadata": {},
     "output_type": "execute_result"
    }
   ],
   "source": [
    "training_history.history.keys()"
   ]
  },
  {
   "cell_type": "code",
   "execution_count": 165,
   "metadata": {},
   "outputs": [
    {
     "data": {
      "image/png": "[encoded data removed]",
      "text/plain": [
       "<Figure size 1008x576 with 2 Axes>"
      ]
     },
     "metadata": {
      "needs_background": "light"
     },
     "output_type": "display_data"
    }
   ],
   "source": [
    "train_acc = training_history.history['accuracy']\n",
    "train_loss = training_history.history['loss']\n",
    "\n",
    "precision = training_history.history['precision_1']\n",
    "recall = training_history.history['recall_1']\n",
    "\n",
    "epochs_range = range(num_epochs)\n",
    "\n",
    "plt.figure(figsize = (14,8))\n",
    "\n",
    "plt.subplot(1,2,1)\n",
    "\n",
    "plt.plot(epochs_range, train_acc, label = 'Training Accuracy')\n",
    "plt.plot(epochs_range, train_loss, label = 'Training Loss')\n",
    "\n",
    "plt.title('Accuracy and Loss')\n",
    "plt.legend()\n",
    "\n",
    "plt.subplot(1,2,2)\n",
    "\n",
    "plt.plot(epochs_range, precision, label = 'Training Accuracy')\n",
    "plt.plot(epochs_range, recall,    label = 'Training Loss')\n",
    "\n",
    "plt.title('Precision and Recall')\n",
    "plt.legend()\n",
    "plt.show()"
   ]
  },
  {
   "cell_type": "code",
   "execution_count": 166,
   "metadata": {},
   "outputs": [
    {
     "data": {
      "text/plain": [
       "array([[0.49450436],\n",
       "       [0.473082  ],\n",
       "       [0.3575297 ],\n",
       "       [0.67815506],\n",
       "       [0.51698095],\n",
       "       [0.4588448 ],\n",
       "       [0.46109888],\n",
       "       [0.38797003],\n",
       "       [0.5421597 ],\n",
       "       [0.46321738]], dtype=float32)"
      ]
     },
     "execution_count": 166,
     "metadata": {},
     "output_type": "execute_result"
    }
   ],
   "source": [
    "y_pred = model.predict(x_test)\n",
    "\n",
    "y_pred[:10]"
   ]
  },
  {
   "cell_type": "code",
   "execution_count": 168,
   "metadata": {},
   "outputs": [],
   "source": [
    "y_pred = np.where(y_pred>=0.5, 1, y_pred)\n",
    "y_pred = np.where(y_pred<0.5, 0, y_pred)"
   ]
  },
  {
   "cell_type": "code",
   "execution_count": 169,
   "metadata": {},
   "outputs": [
    {
     "data": {
      "text/plain": [
       "array([[0.],\n",
       "       [0.],\n",
       "       [0.],\n",
       "       [1.],\n",
       "       [1.],\n",
       "       [0.],\n",
       "       [0.],\n",
       "       [0.],\n",
       "       [1.],\n",
       "       [0.]], dtype=float32)"
      ]
     },
     "execution_count": 169,
     "metadata": {},
     "output_type": "execute_result"
    }
   ],
   "source": [
    "y_pred[:10]"
   ]
  },
  {
   "cell_type": "code",
   "execution_count": 170,
   "metadata": {},
   "outputs": [],
   "source": [
    "pred_results = pd.DataFrame({'y_test':y_test.values.flatten(),\n",
    "                            'y_pred':y_pred.flatten().astype('int32')},\n",
    "                           index = range(len(y_pred)))"
   ]
  },
  {
   "cell_type": "code",
   "execution_count": 171,
   "metadata": {},
   "outputs": [
    {
     "data": {
      "text/html": [
       "<div>\n",
       "<style scoped>\n",
       "    .dataframe tbody tr th:only-of-type {\n",
       "        vertical-align: middle;\n",
       "    }\n",
       "\n",
       "    .dataframe tbody tr th {\n",
       "        vertical-align: top;\n",
       "    }\n",
       "\n",
       "    .dataframe thead th {\n",
       "        text-align: right;\n",
       "    }\n",
       "</style>\n",
       "<table border=\"1\" class=\"dataframe\">\n",
       "  <thead>\n",
       "    <tr style=\"text-align: right;\">\n",
       "      <th>y_test</th>\n",
       "      <th>0</th>\n",
       "      <th>1</th>\n",
       "    </tr>\n",
       "    <tr>\n",
       "      <th>y_pred</th>\n",
       "      <th></th>\n",
       "      <th></th>\n",
       "    </tr>\n",
       "  </thead>\n",
       "  <tbody>\n",
       "    <tr>\n",
       "      <th>0</th>\n",
       "      <td>30</td>\n",
       "      <td>6</td>\n",
       "    </tr>\n",
       "    <tr>\n",
       "      <th>1</th>\n",
       "      <td>4</td>\n",
       "      <td>7</td>\n",
       "    </tr>\n",
       "  </tbody>\n",
       "</table>\n",
       "</div>"
      ],
      "text/plain": [
       "y_test   0  1\n",
       "y_pred       \n",
       "0       30  6\n",
       "1        4  7"
      ]
     },
     "execution_count": 171,
     "metadata": {},
     "output_type": "execute_result"
    }
   ],
   "source": [
    "pd.crosstab(pred_results.y_pred,pred_results.y_test)"
   ]
  },
  {
   "cell_type": "code",
   "execution_count": 172,
   "metadata": {},
   "outputs": [
    {
     "data": {
      "text/plain": [
       "0.7872340425531915"
      ]
     },
     "execution_count": 172,
     "metadata": {},
     "output_type": "execute_result"
    }
   ],
   "source": [
    "accuracy_score(y_test,y_pred)"
   ]
  },
  {
   "cell_type": "code",
   "execution_count": 173,
   "metadata": {},
   "outputs": [
    {
     "data": {
      "text/plain": [
       "0.6363636363636364"
      ]
     },
     "execution_count": 173,
     "metadata": {},
     "output_type": "execute_result"
    }
   ],
   "source": [
    "precision_score(y_test,y_pred)"
   ]
  },
  {
   "cell_type": "markdown",
   "metadata": {},
   "source": [
    "* The number of positive predictions by our model that were correct"
   ]
  },
  {
   "cell_type": "code",
   "execution_count": 174,
   "metadata": {},
   "outputs": [
    {
     "data": {
      "text/plain": [
       "0.5384615384615384"
      ]
     },
     "execution_count": 174,
     "metadata": {},
     "output_type": "execute_result"
    }
   ],
   "source": [
    "recall_score(y_test,y_pred)"
   ]
  },
  {
   "cell_type": "markdown",
   "metadata": {},
   "source": [
    "* The number of postive values in the dataset that were correctly identify by our model"
   ]
  },
  {
   "cell_type": "code",
   "execution_count": 177,
   "metadata": {},
   "outputs": [],
   "source": [
    "ckpt_path = 'C:/Users/G ANIL/Neural Networks/Neural Networks Janani Ravi/Part II/Untitled Folder'\n",
    "ckpt_dir = os.path.dirname(ckpt_path)\n",
    "\n",
    "\n",
    "ckpt_callback = tf.keras.callbacks.ModelCheckpoint(filepath = ckpt_path,\n",
    "                                                  save_weights_only = True,\n",
    "                                                  save_freq = 3,\n",
    "                                                  verbose = False)"
   ]
  },
  {
   "cell_type": "code",
   "execution_count": 178,
   "metadata": {},
   "outputs": [
    {
     "name": "stdout",
     "output_type": "stream",
     "text": [
      "Model: \"functional_7\"\n",
      "_________________________________________________________________\n",
      "Layer (type)                 Output Shape              Param #   \n",
      "=================================================================\n",
      "input_4 (InputLayer)         [(None, 12)]              0         \n",
      "_________________________________________________________________\n",
      "dense_9 (Dense)              (None, 16)                208       \n",
      "_________________________________________________________________\n",
      "dropout_3 (Dropout)          (None, 16)                0         \n",
      "_________________________________________________________________\n",
      "dense_10 (Dense)             (None, 8)                 136       \n",
      "_________________________________________________________________\n",
      "dense_11 (Dense)             (None, 1)                 9         \n",
      "=================================================================\n",
      "Total params: 353\n",
      "Trainable params: 353\n",
      "Non-trainable params: 0\n",
      "_________________________________________________________________\n"
     ]
    },
    {
     "data": {
      "text/plain": [
       "<tensorflow.python.keras.callbacks.History at 0x1959c3b8190>"
      ]
     },
     "execution_count": 178,
     "metadata": {},
     "output_type": "execute_result"
    }
   ],
   "source": [
    "model = build_and_compile_model()\n",
    "\n",
    "model.fit(dataset_train,epochs = num_epochs, validation_data = dataset_val,\n",
    "         verbose = False, callbacks = [ckpt_callback])"
   ]
  },
  {
   "cell_type": "code",
   "execution_count": 179,
   "metadata": {},
   "outputs": [
    {
     "data": {
      "text/plain": [
       "0.7021276595744681"
      ]
     },
     "execution_count": 179,
     "metadata": {},
     "output_type": "execute_result"
    }
   ],
   "source": [
    "y_pred = model.predict(x_test)\n",
    "\n",
    "y_pred = np.where(y_pred>=0.5, 1, y_pred)\n",
    "y_pred = np.where(y_pred<0.5, 0, y_pred)\n",
    "\n",
    "accuracy_score(y_test,y_pred)"
   ]
  },
  {
   "cell_type": "code",
   "execution_count": 180,
   "metadata": {},
   "outputs": [
    {
     "name": "stdout",
     "output_type": "stream",
     "text": [
      "Model: \"functional_9\"\n",
      "_________________________________________________________________\n",
      "Layer (type)                 Output Shape              Param #   \n",
      "=================================================================\n",
      "input_5 (InputLayer)         [(None, 12)]              0         \n",
      "_________________________________________________________________\n",
      "dense_12 (Dense)             (None, 16)                208       \n",
      "_________________________________________________________________\n",
      "dropout_4 (Dropout)          (None, 16)                0         \n",
      "_________________________________________________________________\n",
      "dense_13 (Dense)             (None, 8)                 136       \n",
      "_________________________________________________________________\n",
      "dense_14 (Dense)             (None, 1)                 9         \n",
      "=================================================================\n",
      "Total params: 353\n",
      "Trainable params: 353\n",
      "Non-trainable params: 0\n",
      "_________________________________________________________________\n"
     ]
    },
    {
     "data": {
      "text/plain": [
       "<tensorflow.python.training.tracking.util.CheckpointLoadStatus at 0x19591b1c160>"
      ]
     },
     "execution_count": 180,
     "metadata": {},
     "output_type": "execute_result"
    }
   ],
   "source": [
    "reloaded_model = build_and_compile_model()\n",
    "\n",
    "reloaded_model.load_weights(ckpt_path)"
   ]
  },
  {
   "cell_type": "code",
   "execution_count": 185,
   "metadata": {},
   "outputs": [
    {
     "data": {
      "text/plain": [
       "0.723404255319149"
      ]
     },
     "execution_count": 185,
     "metadata": {},
     "output_type": "execute_result"
    }
   ],
   "source": [
    "y_pred = reloaded_model.predict(x_test)\n",
    "\n",
    "y_pred = np.where(y_pred>=0.5, 1, y_pred)\n",
    "y_pred = np.where(y_pred<0.5, 0, y_pred)\n",
    "\n",
    "accuracy_score(y_test,y_pred)"
   ]
  },
  {
   "cell_type": "code",
   "execution_count": 186,
   "metadata": {},
   "outputs": [
    {
     "name": "stdout",
     "output_type": "stream",
     "text": [
      "Epoch 1/5\n",
      "14/14 [==============================] - 0s 2ms/step - loss: 0.4963 - accuracy: 0.7085 - precision_4: 0.6364 - recall_4: 0.3636 - val_loss: 0.4182 - val_accuracy: 0.8000 - val_precision_4: 0.6250 - val_recall_4: 0.5000\n",
      "Epoch 2/5\n",
      "14/14 [==============================] - 0s 5ms/step - loss: 0.5050 - accuracy: 0.7130 - precision_4: 0.6970 - recall_4: 0.2987 - val_loss: 0.4158 - val_accuracy: 0.8000 - val_precision_4: 0.6250 - val_recall_4: 0.5000\n",
      "Epoch 3/5\n",
      "14/14 [==============================] - 0s 4ms/step - loss: 0.4788 - accuracy: 0.7175 - precision_4: 0.7059 - recall_4: 0.3117 - val_loss: 0.4116 - val_accuracy: 0.8000 - val_precision_4: 0.6250 - val_recall_4: 0.5000\n",
      "Epoch 4/5\n",
      "14/14 [==============================] - 0s 7ms/step - loss: 0.5062 - accuracy: 0.7265 - precision_4: 0.6739 - recall_4: 0.4026 - val_loss: 0.4103 - val_accuracy: 0.8000 - val_precision_4: 0.6250 - val_recall_4: 0.5000\n",
      "Epoch 5/5\n",
      "14/14 [==============================] - 0s 6ms/step - loss: 0.4828 - accuracy: 0.6996 - precision_4: 0.6316 - recall_4: 0.3117 - val_loss: 0.4083 - val_accuracy: 0.8000 - val_precision_4: 0.6250 - val_recall_4: 0.5000\n"
     ]
    },
    {
     "data": {
      "text/plain": [
       "<tensorflow.python.keras.callbacks.History at 0x195974ada00>"
      ]
     },
     "execution_count": 186,
     "metadata": {},
     "output_type": "execute_result"
    }
   ],
   "source": [
    "reloaded_model.fit(dataset_train, epochs = 5, validation_data = dataset_val)"
   ]
  },
  {
   "cell_type": "code",
   "execution_count": 187,
   "metadata": {},
   "outputs": [
    {
     "data": {
      "text/plain": [
       "0.7659574468085106"
      ]
     },
     "execution_count": 187,
     "metadata": {},
     "output_type": "execute_result"
    }
   ],
   "source": [
    "y_pred = reloaded_model.predict(x_test)\n",
    "\n",
    "y_pred = np.where(y_pred>=0.5, 1, y_pred)\n",
    "y_pred = np.where(y_pred<0.5, 0, y_pred)\n",
    "\n",
    "accuracy_score(y_test,y_pred)"
   ]
  },
  {
   "cell_type": "code",
   "execution_count": 188,
   "metadata": {},
   "outputs": [
    {
     "name": "stdout",
     "output_type": "stream",
     "text": [
      "Model: \"functional_11\"\n",
      "_________________________________________________________________\n",
      "Layer (type)                 Output Shape              Param #   \n",
      "=================================================================\n",
      "input_6 (InputLayer)         [(None, 12)]              0         \n",
      "_________________________________________________________________\n",
      "dense_15 (Dense)             (None, 16)                208       \n",
      "_________________________________________________________________\n",
      "dropout_5 (Dropout)          (None, 16)                0         \n",
      "_________________________________________________________________\n",
      "dense_16 (Dense)             (None, 8)                 136       \n",
      "_________________________________________________________________\n",
      "dense_17 (Dense)             (None, 1)                 9         \n",
      "=================================================================\n",
      "Total params: 353\n",
      "Trainable params: 353\n",
      "Non-trainable params: 0\n",
      "_________________________________________________________________\n"
     ]
    }
   ],
   "source": [
    "model = build_and_compile_model()"
   ]
  },
  {
   "cell_type": "code",
   "execution_count": 189,
   "metadata": {},
   "outputs": [],
   "source": [
    "log_dir = \"logs/\" + datetime.datetime.now().strftime(\"%Y%m%d-%H%M%S\")\n",
    "\n",
    "tensorboard_callback = tf.keras.callbacks.TensorBoard(log_dir = log_dir, histogram_freq = 1)"
   ]
  },
  {
   "cell_type": "code",
   "execution_count": 190,
   "metadata": {},
   "outputs": [
    {
     "name": "stdout",
     "output_type": "stream",
     "text": [
      "WARNING:tensorflow:From C:\\Users\\G ANIL\\anaconda3\\lib\\site-packages\\tensorflow\\python\\ops\\summary_ops_v2.py:1277: stop (from tensorflow.python.eager.profiler) is deprecated and will be removed after 2020-07-01.\n",
      "Instructions for updating:\n",
      "use `tf.profiler.experimental.stop` instead.\n",
      "WARNING:tensorflow:Callbacks method `on_train_batch_end` is slow compared to the batch time (batch time: 0.0168s vs `on_train_batch_end` time: 1.1721s). Check your callbacks.\n"
     ]
    },
    {
     "data": {
      "text/plain": [
       "<tensorflow.python.keras.callbacks.History at 0x1959deed4c0>"
      ]
     },
     "execution_count": 190,
     "metadata": {},
     "output_type": "execute_result"
    }
   ],
   "source": [
    "model.fit(dataset_train, epochs = num_epochs, validation_data = dataset_val, verbose = False,\n",
    "         callbacks = [tensorboard_callback])"
   ]
  },
  {
   "cell_type": "code",
   "execution_count": 191,
   "metadata": {},
   "outputs": [],
   "source": [
    "%load_ext tensorboard"
   ]
  },
  {
   "cell_type": "code",
   "execution_count": 193,
   "metadata": {},
   "outputs": [
    {
     "data": {
      "text/plain": [
       "Reusing TensorBoard on port 6006 (pid 6300), started 0:02:14 ago. (Use '!kill 6300' to kill it.)"
      ]
     },
     "metadata": {},
     "output_type": "display_data"
    },
    {
     "data": {
      "text/html": [
       "\n",
       "      <iframe id=\"tensorboard-frame-f08c3b713755275c\" width=\"100%\" height=\"800\" frameborder=\"0\">\n",
       "      </iframe>\n",
       "      <script>\n",
       "        (function() {\n",
       "          const frame = document.getElementById(\"tensorboard-frame-f08c3b713755275c\");\n",
       "          const url = new URL(\"/\", window.location);\n",
       "          const port = 6006;\n",
       "          if (port) {\n",
       "            url.port = port;\n",
       "          }\n",
       "          frame.src = url;\n",
       "        })();\n",
       "      </script>\n",
       "    "
      ],
      "text/plain": [
       "<IPython.core.display.HTML object>"
      ]
     },
     "metadata": {},
     "output_type": "display_data"
    }
   ],
   "source": [
    "%tensorboard --logdir logs/"
   ]
  },
  {
   "cell_type": "code",
   "execution_count": null,
   "metadata": {},
   "outputs": [],
   "source": []
  }
 ],
 "metadata": {
  "kernelspec": {
   "display_name": "Python 3",
   "language": "python",
   "name": "python3"
  },
  "language_info": {
   "codemirror_mode": {
    "name": "ipython",
    "version": 3
   },
   "file_extension": ".py",
   "mimetype": "text/x-python",
   "name": "python",
   "nbconvert_exporter": "python",
   "pygments_lexer": "ipython3",
   "version": "3.8.3"
  }
 },
 "nbformat": 4,
 "nbformat_minor": 4
}
